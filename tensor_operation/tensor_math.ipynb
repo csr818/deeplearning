{
 "cells": [
  {
   "cell_type": "markdown",
   "source": [
    "# Tensor math and comparison operation\n"
   ],
   "metadata": {
    "collapsed": false
   },
   "id": "64e9424a798b4ffc"
  },
  {
   "cell_type": "code",
   "outputs": [
    {
     "data": {
      "text/plain": "tensor([10., 10., 10.])"
     },
     "execution_count": 1,
     "metadata": {},
     "output_type": "execute_result"
    }
   ],
   "source": [
    "import torch \n",
    "\n",
    "x = torch.tensor([1, 2, 3])\n",
    "y = torch.tensor([9, 8, 7])\n",
    "\n",
    "z = torch.empty(3)\n",
    "torch.add(x, y, out=z)\n",
    "z"
   ],
   "metadata": {
    "collapsed": false,
    "ExecuteTime": {
     "end_time": "2024-01-06T06:51:48.544935200Z",
     "start_time": "2024-01-06T06:51:44.972527600Z"
    }
   },
   "id": "d690e348a4f371",
   "execution_count": 1
  },
  {
   "cell_type": "code",
   "outputs": [
    {
     "name": "stdout",
     "output_type": "stream",
     "text": [
      "tensor([0., 0., 0.])\n"
     ]
    },
    {
     "data": {
      "text/plain": "tensor([10, 10, 10])"
     },
     "execution_count": 4,
     "metadata": {},
     "output_type": "execute_result"
    }
   ],
   "source": [
    "z = torch.empty(3)\n",
    "print(z)\n",
    "z = x + y \n",
    "z"
   ],
   "metadata": {
    "collapsed": false,
    "ExecuteTime": {
     "end_time": "2024-01-06T06:53:12.246103600Z",
     "start_time": "2024-01-06T06:53:12.234635600Z"
    }
   },
   "id": "1b09c490287295dc",
   "execution_count": 4
  },
  {
   "cell_type": "code",
   "outputs": [
    {
     "data": {
      "text/plain": "tensor([10, 10, 10])"
     },
     "execution_count": 3,
     "metadata": {},
     "output_type": "execute_result"
    }
   ],
   "source": [
    "z = torch.add(x, y)\n",
    "z"
   ],
   "metadata": {
    "collapsed": false,
    "ExecuteTime": {
     "end_time": "2024-01-06T06:52:46.638827800Z",
     "start_time": "2024-01-06T06:52:46.628116700Z"
    }
   },
   "id": "440f3ea8dbb99687",
   "execution_count": 3
  },
  {
   "cell_type": "code",
   "outputs": [
    {
     "data": {
      "text/plain": "tensor([-8, -6, -4])"
     },
     "execution_count": 5,
     "metadata": {},
     "output_type": "execute_result"
    }
   ],
   "source": [
    "z = x - y\n",
    "z"
   ],
   "metadata": {
    "collapsed": false,
    "ExecuteTime": {
     "end_time": "2024-01-06T07:19:11.801759600Z",
     "start_time": "2024-01-06T07:19:11.793537400Z"
    }
   },
   "id": "138652f7f2a1c3bd",
   "execution_count": 5
  },
  {
   "cell_type": "code",
   "outputs": [
    {
     "data": {
      "text/plain": "tensor([0.1111, 0.2500, 0.4286])"
     },
     "execution_count": 6,
     "metadata": {},
     "output_type": "execute_result"
    }
   ],
   "source": [
    "z = torch.true_divide(x, y) # divide elements in x correspondingly \n",
    "z"
   ],
   "metadata": {
    "collapsed": false,
    "ExecuteTime": {
     "end_time": "2024-01-06T07:19:33.103532700Z",
     "start_time": "2024-01-06T07:19:33.089789300Z"
    }
   },
   "id": "f9c786d3d17ba853",
   "execution_count": 6
  },
  {
   "cell_type": "code",
   "outputs": [
    {
     "data": {
      "text/plain": "tensor([0.5000, 1.0000, 1.5000])"
     },
     "execution_count": 7,
     "metadata": {},
     "output_type": "execute_result"
    }
   ],
   "source": [
    "z = torch.true_divide(x, 2) # second parameter is int \n",
    "z"
   ],
   "metadata": {
    "collapsed": false,
    "ExecuteTime": {
     "end_time": "2024-01-06T07:20:02.060002800Z",
     "start_time": "2024-01-06T07:20:02.046852600Z"
    }
   },
   "id": "1c22995cbc1baa44",
   "execution_count": 7
  },
  {
   "cell_type": "markdown",
   "source": [
    "# inplace operation"
   ],
   "metadata": {
    "collapsed": false
   },
   "id": "d305cf6f87ca6a6c"
  },
  {
   "cell_type": "code",
   "outputs": [
    {
     "name": "stdout",
     "output_type": "stream",
     "text": [
      "tensor([2, 4, 6])\n"
     ]
    },
    {
     "data": {
      "text/plain": "tensor([3, 6, 9])"
     },
     "execution_count": 9,
     "metadata": {},
     "output_type": "execute_result"
    }
   ],
   "source": [
    "t = torch.tensor([1, 2, 3])\n",
    "t += x\n",
    "print(t)\n",
    "t.add_(x)\n",
    "t"
   ],
   "metadata": {
    "collapsed": false,
    "ExecuteTime": {
     "end_time": "2024-01-06T07:26:54.184789100Z",
     "start_time": "2024-01-06T07:26:54.166197900Z"
    }
   },
   "id": "137eb37aebc7832a",
   "execution_count": 9
  },
  {
   "cell_type": "code",
   "outputs": [
    {
     "name": "stdout",
     "output_type": "stream",
     "text": [
      "tensor([1, 4, 9])\n"
     ]
    },
    {
     "data": {
      "text/plain": "tensor([1, 4, 9])"
     },
     "execution_count": 10,
     "metadata": {},
     "output_type": "execute_result"
    }
   ],
   "source": [
    "z = x.pow(2)\n",
    "print(z)\n",
    "z = x ** 2\n",
    "z"
   ],
   "metadata": {
    "collapsed": false,
    "ExecuteTime": {
     "end_time": "2024-01-06T07:27:55.561142Z",
     "start_time": "2024-01-06T07:27:55.551129Z"
    }
   },
   "id": "7e6ccc879778faae",
   "execution_count": 10
  },
  {
   "cell_type": "code",
   "outputs": [
    {
     "data": {
      "text/plain": "tensor([True, True, True])"
     },
     "execution_count": 11,
     "metadata": {},
     "output_type": "execute_result"
    }
   ],
   "source": [
    "z = x > 0\n",
    "z"
   ],
   "metadata": {
    "collapsed": false,
    "ExecuteTime": {
     "end_time": "2024-01-06T07:28:57.094597Z",
     "start_time": "2024-01-06T07:28:57.086296100Z"
    }
   },
   "id": "3e9bec9a490b265c",
   "execution_count": 11
  },
  {
   "cell_type": "markdown",
   "source": [
    "# Matrix operation"
   ],
   "metadata": {
    "collapsed": false
   },
   "id": "98ff0cc815f5069a"
  },
  {
   "cell_type": "code",
   "outputs": [
    {
     "name": "stdout",
     "output_type": "stream",
     "text": [
      "torch.Size([2, 3]) tensor([[1.5647, 0.8168, 1.7942],\n",
      "        [1.7839, 0.5029, 1.6849]])\n"
     ]
    },
    {
     "data": {
      "text/plain": "tensor([[1.5647, 0.8168, 1.7942],\n        [1.7839, 0.5029, 1.6849]])"
     },
     "execution_count": 17,
     "metadata": {},
     "output_type": "execute_result"
    }
   ],
   "source": [
    "x1 = torch.rand((2, 5))\n",
    "x2 = torch.rand((5, 3))\n",
    "y = torch.mm(x1, x2)    # matrix multiplication\n",
    "print(y.shape, y)\n",
    "y = x1.mm(x2)\n",
    "y"
   ],
   "metadata": {
    "collapsed": false,
    "ExecuteTime": {
     "end_time": "2024-01-06T07:34:29.393599Z",
     "start_time": "2024-01-06T07:34:29.387019Z"
    }
   },
   "id": "267a794863d92e8d",
   "execution_count": 17
  },
  {
   "cell_type": "code",
   "outputs": [
    {
     "name": "stdout",
     "output_type": "stream",
     "text": [
      "tensor([[ 37,  54],\n",
      "        [ 81, 118]])\n",
      "tensor([[ 37,  54],\n",
      "        [ 81, 118]])\n"
     ]
    }
   ],
   "source": [
    "mat_exp = torch.tensor([[1, 2], [3, 4]])\n",
    "print(mat_exp.matrix_power(3))      # matrix_power \n",
    "print(mat_exp.mm(mat_exp).mm(mat_exp))"
   ],
   "metadata": {
    "collapsed": false,
    "ExecuteTime": {
     "end_time": "2024-01-06T07:38:27.576305300Z",
     "start_time": "2024-01-06T07:38:27.569064500Z"
    }
   },
   "id": "d0c29c3ed398970a",
   "execution_count": 22
  },
  {
   "cell_type": "code",
   "outputs": [
    {
     "data": {
      "text/plain": "tensor([ 9, 16, 21])"
     },
     "execution_count": 27,
     "metadata": {},
     "output_type": "execute_result"
    }
   ],
   "source": [
    "y = torch.tensor([9, 8, 7])\n",
    "z = x * y # element wise multiply \n",
    "z"
   ],
   "metadata": {
    "collapsed": false,
    "ExecuteTime": {
     "end_time": "2024-01-06T07:41:29.177556900Z",
     "start_time": "2024-01-06T07:41:29.169708500Z"
    }
   },
   "id": "ec3d81702f37e253",
   "execution_count": 27
  },
  {
   "cell_type": "code",
   "outputs": [
    {
     "data": {
      "text/plain": "tensor(46)"
     },
     "execution_count": 28,
     "metadata": {},
     "output_type": "execute_result"
    }
   ],
   "source": [
    "z = torch.dot(x, y) # dot product, sum of the element wise multiply \n",
    "z"
   ],
   "metadata": {
    "collapsed": false,
    "ExecuteTime": {
     "end_time": "2024-01-06T07:42:11.979893500Z",
     "start_time": "2024-01-06T07:42:11.969433600Z"
    }
   },
   "id": "acf390072651d192",
   "execution_count": 28
  },
  {
   "cell_type": "code",
   "outputs": [
    {
     "name": "stdout",
     "output_type": "stream",
     "text": [
      "torch.Size([32, 10, 30])\n"
     ]
    }
   ],
   "source": [
    "batch = 32\n",
    "n, m, p = 10, 20, 30\n",
    "tensor1 = torch.rand((batch, n, m))\n",
    "tensor2 = torch.rand((batch, m, p))\n",
    "print(torch.bmm(tensor1, tensor2).shape)    # batch matrix multiply \n"
   ],
   "metadata": {
    "collapsed": false,
    "ExecuteTime": {
     "end_time": "2024-01-06T07:59:47.663538800Z",
     "start_time": "2024-01-06T07:59:47.655007700Z"
    }
   },
   "id": "64c3126d3cbdccd6",
   "execution_count": 31
  },
  {
   "cell_type": "markdown",
   "source": [
    "# Broadcasting"
   ],
   "metadata": {
    "collapsed": false
   },
   "id": "30fc673c02f52fe8"
  },
  {
   "cell_type": "code",
   "outputs": [
    {
     "data": {
      "text/plain": "tensor([[-4, -4],\n        [-2, -2],\n        [ 0,  0]])"
     },
     "execution_count": 38,
     "metadata": {},
     "output_type": "execute_result"
    }
   ],
   "source": [
    "x1 = torch.tensor([[1, 2], [3, 4], [5, 6]])\n",
    "x2 = torch.tensor([5, 6]) # expand to the correct matrix size \n",
    "z = x1 - x2 \n",
    "z"
   ],
   "metadata": {
    "collapsed": false,
    "ExecuteTime": {
     "end_time": "2024-01-06T08:09:19.639580400Z",
     "start_time": "2024-01-06T08:09:19.632207300Z"
    }
   },
   "id": "c12e4af9ebd4a7b9",
   "execution_count": 38
  },
  {
   "cell_type": "code",
   "outputs": [
    {
     "data": {
      "text/plain": "tensor([[    1,    64],\n        [  243,  4096],\n        [ 3125, 46656]])"
     },
     "execution_count": 39,
     "metadata": {},
     "output_type": "execute_result"
    }
   ],
   "source": [
    "z = x1 ** x2 \n",
    "z"
   ],
   "metadata": {
    "collapsed": false,
    "ExecuteTime": {
     "end_time": "2024-01-06T08:09:23.967970700Z",
     "start_time": "2024-01-06T08:09:23.956085500Z"
    }
   },
   "id": "da697032d134a31a",
   "execution_count": 39
  },
  {
   "cell_type": "markdown",
   "source": [
    "# operation direction"
   ],
   "metadata": {
    "collapsed": false
   },
   "id": "401ebd9a651e4447"
  },
  {
   "cell_type": "code",
   "outputs": [
    {
     "name": "stdout",
     "output_type": "stream",
     "text": [
      "tensor(6)\n",
      "tensor(3) tensor(2)\n"
     ]
    },
    {
     "data": {
      "text/plain": "tensor([1, 2, 3])"
     },
     "execution_count": 41,
     "metadata": {},
     "output_type": "execute_result"
    }
   ],
   "source": [
    "sum_x = torch.sum(x, dim=0)\n",
    "print(sum_x)\n",
    "values, indices = torch.max(x, dim=0)\n",
    "print(values, indices)\n",
    "x"
   ],
   "metadata": {
    "collapsed": false,
    "ExecuteTime": {
     "end_time": "2024-01-06T08:14:37.060213900Z",
     "start_time": "2024-01-06T08:14:37.053369900Z"
    }
   },
   "id": "a333273c787bc433",
   "execution_count": 41
  },
  {
   "cell_type": "code",
   "outputs": [
    {
     "name": "stdout",
     "output_type": "stream",
     "text": [
      "torch.Size([10, 20])\n",
      "torch.Size([32, 20])\n",
      "torch.Size([32, 10])\n"
     ]
    }
   ],
   "source": [
    "sum_dim0 = torch.sum(tensor1, dim=0) # batch direction\n",
    "print(sum_dim0.shape)\n",
    "sum_dim1 = torch.sum(tensor1, dim=1) # column direction\n",
    "print(sum_dim1.shape)\n",
    "sum_dim2 = torch.sum(tensor1, dim=2) # row direction\n",
    "print(sum_dim2.shape)"
   ],
   "metadata": {
    "collapsed": false,
    "ExecuteTime": {
     "end_time": "2024-01-06T08:18:18.713262200Z",
     "start_time": "2024-01-06T08:18:18.706420600Z"
    }
   },
   "id": "f3e30b860cdd31be",
   "execution_count": 45
  },
  {
   "cell_type": "code",
   "outputs": [
    {
     "name": "stdout",
     "output_type": "stream",
     "text": [
      "torch.return_types.max(\n",
      "values=tensor([3, 6]),\n",
      "indices=tensor([2, 2]))\n",
      "tensor([2, 2])\n"
     ]
    }
   ],
   "source": [
    "t = torch.tensor([[1, 2, 3], [4, 5, 6]])\n",
    "print(t.max(dim=1))\n",
    "print(torch.argmax(t, dim=1))   # argmax return only indices "
   ],
   "metadata": {
    "collapsed": false,
    "ExecuteTime": {
     "end_time": "2024-01-06T08:23:14.426439Z",
     "start_time": "2024-01-06T08:23:14.410918Z"
    }
   },
   "id": "cd62f5ad50bad362",
   "execution_count": 48
  },
  {
   "cell_type": "code",
   "outputs": [
    {
     "name": "stdout",
     "output_type": "stream",
     "text": [
      "tensor([2.5000, 3.5000, 4.5000])\n"
     ]
    }
   ],
   "source": [
    "mean_t = torch.mean(t.float(), dim=0)\n",
    "print(mean_t)"
   ],
   "metadata": {
    "collapsed": false,
    "ExecuteTime": {
     "end_time": "2024-01-06T08:30:16.511549400Z",
     "start_time": "2024-01-06T08:30:16.503457400Z"
    }
   },
   "id": "e165cd746230eda5",
   "execution_count": 50
  },
  {
   "cell_type": "code",
   "outputs": [
    {
     "data": {
      "text/plain": "tensor([False, False, False])"
     },
     "execution_count": 51,
     "metadata": {},
     "output_type": "execute_result"
    }
   ],
   "source": [
    "z = torch.eq(x, y)\n",
    "z "
   ],
   "metadata": {
    "collapsed": false,
    "ExecuteTime": {
     "end_time": "2024-01-06T08:31:04.097122Z",
     "start_time": "2024-01-06T08:31:04.085534300Z"
    }
   },
   "id": "a7bba340e526eb79",
   "execution_count": 51
  },
  {
   "cell_type": "code",
   "outputs": [
    {
     "data": {
      "text/plain": "torch.return_types.sort(\nvalues=tensor([7, 8, 9]),\nindices=tensor([2, 1, 0]))"
     },
     "execution_count": 52,
     "metadata": {},
     "output_type": "execute_result"
    }
   ],
   "source": [
    "torch.sort(y, dim=0, descending=False) # return the values and the indices before"
   ],
   "metadata": {
    "collapsed": false,
    "ExecuteTime": {
     "end_time": "2024-01-06T08:31:32.208210300Z",
     "start_time": "2024-01-06T08:31:32.191398500Z"
    }
   },
   "id": "53f1756616f4034e",
   "execution_count": 52
  },
  {
   "cell_type": "code",
   "outputs": [
    {
     "data": {
      "text/plain": "tensor([[0.5000, 0.5000, 0.5000],\n        [0.7796, 0.8000, 0.5000],\n        [0.6831, 0.5000, 0.5440]])"
     },
     "execution_count": 54,
     "metadata": {},
     "output_type": "execute_result"
    }
   ],
   "source": [
    "z = torch.clamp(torch.rand((3, 3)), min=0.5, max=0.8) # restrict the ceil value and lowest value \n",
    "z"
   ],
   "metadata": {
    "collapsed": false,
    "ExecuteTime": {
     "end_time": "2024-01-06T08:34:08.046982700Z",
     "start_time": "2024-01-06T08:34:08.037498400Z"
    }
   },
   "id": "c61ae1f2f93340a",
   "execution_count": 54
  },
  {
   "cell_type": "code",
   "outputs": [
    {
     "data": {
      "text/plain": "tensor(False)"
     },
     "execution_count": 56,
     "metadata": {},
     "output_type": "execute_result"
    }
   ],
   "source": [
    "z = torch.all(torch.tensor([1, 0, 1, 1, 1], dtype=torch.bool), dim=0)\n",
    "z"
   ],
   "metadata": {
    "collapsed": false,
    "ExecuteTime": {
     "end_time": "2024-01-06T08:37:35.623625400Z",
     "start_time": "2024-01-06T08:37:35.616284Z"
    }
   },
   "id": "de4175b75fc56426",
   "execution_count": 56
  },
  {
   "cell_type": "code",
   "outputs": [
    {
     "data": {
      "text/plain": "tensor(True)"
     },
     "execution_count": 57,
     "metadata": {},
     "output_type": "execute_result"
    }
   ],
   "source": [
    "z = torch.any(torch.tensor([1, 0, 1, 1, 1], dtype=torch.bool), dim=0)\n",
    "z"
   ],
   "metadata": {
    "collapsed": false,
    "ExecuteTime": {
     "end_time": "2024-01-06T08:37:51.469453700Z",
     "start_time": "2024-01-06T08:37:51.456376800Z"
    }
   },
   "id": "d65fd98afb9c1b1e",
   "execution_count": 57
  },
  {
   "cell_type": "code",
   "outputs": [],
   "source": [],
   "metadata": {
    "collapsed": false
   },
   "id": "6e790da0d877b629"
  }
 ],
 "metadata": {
  "kernelspec": {
   "display_name": "Python 3",
   "language": "python",
   "name": "python3"
  },
  "language_info": {
   "codemirror_mode": {
    "name": "ipython",
    "version": 2
   },
   "file_extension": ".py",
   "mimetype": "text/x-python",
   "name": "python",
   "nbconvert_exporter": "python",
   "pygments_lexer": "ipython2",
   "version": "2.7.6"
  }
 },
 "nbformat": 4,
 "nbformat_minor": 5
}
