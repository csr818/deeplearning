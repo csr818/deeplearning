{
 "cells": [
  {
   "cell_type": "code",
   "execution_count": 2,
   "id": "initial_id",
   "metadata": {
    "collapsed": true,
    "ExecuteTime": {
     "end_time": "2024-01-05T11:52:55.400843Z",
     "start_time": "2024-01-05T11:52:55.375774800Z"
    }
   },
   "outputs": [
    {
     "name": "stdout",
     "output_type": "stream",
     "text": [
      "tensor([[1., 2., 3.],\n",
      "        [4., 5., 6.]], requires_grad=True)\n",
      "torch.Size([2, 3])\n",
      "cpu\n",
      "True\n"
     ]
    }
   ],
   "source": [
    "import torch\n",
    "\n",
    "device = \"cuda\" if torch.cuda.is_available() else \"cpu\"\n",
    "x = torch.tensor([[1, 2, 3], [4, 5, 6]], dtype=torch.float, requires_grad=True,\n",
    "                 device=device)\n",
    "print(x)\n",
    "print(x.shape)\n",
    "print(x.device)\n",
    "print(x.requires_grad)"
   ]
  },
  {
   "cell_type": "code",
   "outputs": [
    {
     "name": "stdout",
     "output_type": "stream",
     "text": [
      "tensor([[1., 1., 1.],\n",
      "        [1., 1., 1.]])\n"
     ]
    },
    {
     "data": {
      "text/plain": "tensor([[1., 1., 1.],\n        [1., 1., 1.]])"
     },
     "execution_count": 9,
     "metadata": {},
     "output_type": "execute_result"
    }
   ],
   "source": [
    "y = torch.empty(size=(2, 3))    # allocate the memory, the values are the original ones not necessarily zero\n",
    "zero_y = torch.zeros((2, 3))    # create a tensor of all zeros\n",
    "rand_y = torch.rand((3, 3))     # uniform distribution from 0 to 1\n",
    "ones_y = torch.ones((2, 3))\n",
    "print(ones_y)\n",
    "y"
   ],
   "metadata": {
    "collapsed": false,
    "ExecuteTime": {
     "end_time": "2024-01-05T11:58:50.558950300Z",
     "start_time": "2024-01-05T11:58:50.547492100Z"
    }
   },
   "id": "8bcb31f919515b81",
   "execution_count": 9
  },
  {
   "cell_type": "code",
   "outputs": [
    {
     "data": {
      "text/plain": "tensor([[1., 0., 0.],\n        [0., 1., 0.],\n        [0., 0., 1.]])"
     },
     "execution_count": 5,
     "metadata": {},
     "output_type": "execute_result"
    }
   ],
   "source": [
    "I = torch.eye(3, 3, dtype=torch.float)  # identity matrix\n",
    "I"
   ],
   "metadata": {
    "collapsed": false,
    "ExecuteTime": {
     "end_time": "2024-01-05T11:54:25.021019Z",
     "start_time": "2024-01-05T11:54:25.005228900Z"
    }
   },
   "id": "401cc85cd3aa509d",
   "execution_count": 5
  },
  {
   "cell_type": "code",
   "outputs": [
    {
     "data": {
      "text/plain": "tensor([0., 1., 2., 3., 4., 5., 6., 7.])"
     },
     "execution_count": 8,
     "metadata": {},
     "output_type": "execute_result"
    }
   ],
   "source": [
    "arrange_y = torch.arange(start=0, end=8, step=1, dtype=torch.float)\n",
    "arrange_y"
   ],
   "metadata": {
    "collapsed": false,
    "ExecuteTime": {
     "end_time": "2024-01-05T11:56:41.913815400Z",
     "start_time": "2024-01-05T11:56:41.906595800Z"
    }
   },
   "id": "9b7e007a2251c9c4",
   "execution_count": 8
  },
  {
   "cell_type": "code",
   "outputs": [
    {
     "data": {
      "text/plain": "tensor([0., 1., 2., 3., 4., 5., 6., 7., 8.])"
     },
     "execution_count": 11,
     "metadata": {},
     "output_type": "execute_result"
    }
   ],
   "source": [
    "y = torch.linspace(start=0, end=8, steps=9, dtype=torch.float)  # from start to end(include end), count number is \"steps\"\n",
    "y"
   ],
   "metadata": {
    "collapsed": false,
    "ExecuteTime": {
     "end_time": "2024-01-05T11:59:22.808953700Z",
     "start_time": "2024-01-05T11:59:22.798520700Z"
    }
   },
   "id": "70217754389f85ed",
   "execution_count": 11
  },
  {
   "cell_type": "code",
   "outputs": [
    {
     "data": {
      "text/plain": "tensor([[-1.2012,  0.4575,  0.7854],\n        [-0.1288,  0.9455, -1.2844]])"
     },
     "execution_count": 12,
     "metadata": {},
     "output_type": "execute_result"
    }
   ],
   "source": [
    "y = torch.empty(size=(2, 3), dtype=torch.float).normal_(mean=0, std=1)  # specify the mean and std, normal deploy\n",
    "y"
   ],
   "metadata": {
    "collapsed": false,
    "ExecuteTime": {
     "end_time": "2024-01-05T12:01:39.087948500Z",
     "start_time": "2024-01-05T12:01:39.075898Z"
    }
   },
   "id": "f6789ae01318aabb",
   "execution_count": 12
  },
  {
   "cell_type": "code",
   "outputs": [
    {
     "data": {
      "text/plain": "tensor([[0.4376, 0.3490, 0.2101],\n        [0.2567, 0.2733, 0.2738]])"
     },
     "execution_count": 14,
     "metadata": {},
     "output_type": "execute_result"
    }
   ],
   "source": [
    "y = torch.empty(size=(2, 3), dtype=torch.float).uniform_(0, 1)  \n",
    "y"
   ],
   "metadata": {
    "collapsed": false,
    "ExecuteTime": {
     "end_time": "2024-01-05T12:02:40.968927200Z",
     "start_time": "2024-01-05T12:02:40.959175900Z"
    }
   },
   "id": "c898a4c5e81508a",
   "execution_count": 14
  },
  {
   "cell_type": "code",
   "outputs": [
    {
     "data": {
      "text/plain": "tensor([[1, 0, 0],\n        [0, 2, 0],\n        [0, 0, 3]])"
     },
     "execution_count": 15,
     "metadata": {},
     "output_type": "execute_result"
    }
   ],
   "source": [
    "y = torch.diag(torch.tensor([1, 2, 3])) # diag matrix, specify the elements in the main diagonal\n",
    "y"
   ],
   "metadata": {
    "collapsed": false,
    "ExecuteTime": {
     "end_time": "2024-01-05T12:04:24.876828100Z",
     "start_time": "2024-01-05T12:04:24.861701200Z"
    }
   },
   "id": "4a6b269732231c1b",
   "execution_count": 15
  },
  {
   "cell_type": "markdown",
   "source": [
    "\n",
    "# How to initialize and convert tensors to other types"
   ],
   "metadata": {
    "collapsed": false
   },
   "id": "babe3be73b7ddf55"
  },
  {
   "cell_type": "code",
   "outputs": [
    {
     "data": {
      "text/plain": "tensor([0, 1, 2, 3])"
     },
     "execution_count": 16,
     "metadata": {},
     "output_type": "execute_result"
    }
   ],
   "source": [
    "x = torch.arange(4)\n",
    "x"
   ],
   "metadata": {
    "collapsed": false,
    "ExecuteTime": {
     "end_time": "2024-01-05T12:39:58.079258Z",
     "start_time": "2024-01-05T12:39:58.067694900Z"
    }
   },
   "id": "66e58cb338909ffd",
   "execution_count": 16
  },
  {
   "cell_type": "code",
   "outputs": [
    {
     "data": {
      "text/plain": "tensor([False,  True,  True,  True])"
     },
     "execution_count": 18,
     "metadata": {},
     "output_type": "execute_result"
    }
   ],
   "source": [
    "x.bool()"
   ],
   "metadata": {
    "collapsed": false,
    "ExecuteTime": {
     "end_time": "2024-01-05T12:40:27.022133400Z",
     "start_time": "2024-01-05T12:40:27.012626900Z"
    }
   },
   "id": "745955b15d43a797",
   "execution_count": 18
  },
  {
   "cell_type": "code",
   "outputs": [
    {
     "data": {
      "text/plain": "tensor([0., 1., 2., 3.])"
     },
     "execution_count": 19,
     "metadata": {},
     "output_type": "execute_result"
    }
   ],
   "source": [
    "x.float()   # 32bit float number"
   ],
   "metadata": {
    "collapsed": false,
    "ExecuteTime": {
     "end_time": "2024-01-05T12:40:42.489653600Z",
     "start_time": "2024-01-05T12:40:42.476288500Z"
    }
   },
   "id": "29b8a7f64fb15c7",
   "execution_count": 19
  },
  {
   "cell_type": "code",
   "outputs": [
    {
     "data": {
      "text/plain": "tensor([0, 1, 2, 3])"
     },
     "execution_count": 20,
     "metadata": {},
     "output_type": "execute_result"
    }
   ],
   "source": [
    "x.long()    # 64int "
   ],
   "metadata": {
    "collapsed": false,
    "ExecuteTime": {
     "end_time": "2024-01-05T12:41:05.365042800Z",
     "start_time": "2024-01-05T12:41:05.347140900Z"
    }
   },
   "id": "168b6e8cd3d8640",
   "execution_count": 20
  },
  {
   "cell_type": "code",
   "outputs": [
    {
     "data": {
      "text/plain": "tensor([0., 1., 2., 3.], dtype=torch.float64)"
     },
     "execution_count": 21,
     "metadata": {},
     "output_type": "execute_result"
    }
   ],
   "source": [
    "x.double() # 64float"
   ],
   "metadata": {
    "collapsed": false,
    "ExecuteTime": {
     "end_time": "2024-01-05T12:41:32.371853200Z",
     "start_time": "2024-01-05T12:41:32.358970700Z"
    }
   },
   "id": "1e069d9432429944",
   "execution_count": 21
  },
  {
   "cell_type": "markdown",
   "source": [
    "# array to tensor conversion and vice-versa"
   ],
   "metadata": {
    "collapsed": false
   },
   "id": "f400533ea1136449"
  },
  {
   "cell_type": "code",
   "outputs": [
    {
     "data": {
      "text/plain": "(tensor([[0., 0., 0.],\n         [0., 0., 0.]], dtype=torch.float64),\n array([[0., 0., 0.],\n        [0., 0., 0.]]))"
     },
     "execution_count": 22,
     "metadata": {},
     "output_type": "execute_result"
    }
   ],
   "source": [
    "import numpy as np\n",
    "x = np.zeros((2, 3))\n",
    "tensor = torch.from_numpy(x)    # convert to tensor \n",
    "back_x = tensor.numpy()\n",
    "tensor, back_x"
   ],
   "metadata": {
    "collapsed": false,
    "ExecuteTime": {
     "end_time": "2024-01-05T12:45:46.672170Z",
     "start_time": "2024-01-05T12:45:46.660128700Z"
    }
   },
   "id": "5dbf743ed13287eb",
   "execution_count": 22
  },
  {
   "cell_type": "code",
   "outputs": [],
   "source": [],
   "metadata": {
    "collapsed": false
   },
   "id": "192202e099d50510"
  }
 ],
 "metadata": {
  "kernelspec": {
   "display_name": "Python 3",
   "language": "python",
   "name": "python3"
  },
  "language_info": {
   "codemirror_mode": {
    "name": "ipython",
    "version": 2
   },
   "file_extension": ".py",
   "mimetype": "text/x-python",
   "name": "python",
   "nbconvert_exporter": "python",
   "pygments_lexer": "ipython2",
   "version": "2.7.6"
  }
 },
 "nbformat": 4,
 "nbformat_minor": 5
}
