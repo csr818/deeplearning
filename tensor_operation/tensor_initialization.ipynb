{
 "cells": [
  {
   "cell_type": "code",
   "execution_count": 1,
   "id": "initial_id",
   "metadata": {
    "collapsed": true,
    "ExecuteTime": {
     "end_time": "2024-01-05T13:04:34.031470200Z",
     "start_time": "2024-01-05T13:04:30.941993300Z"
    }
   },
   "outputs": [
    {
     "name": "stdout",
     "output_type": "stream",
     "text": [
      "tensor([[1., 2., 3.],\n",
      "        [4., 5., 6.]], requires_grad=True)\n",
      "torch.Size([2, 3])\n",
      "cpu\n",
      "True\n"
     ]
    }
   ],
   "source": [
    "import torch\n",
    "\n",
    "device = \"cuda\" if torch.cuda.is_available() else \"cpu\"\n",
    "x = torch.tensor([[1, 2, 3], [4, 5, 6]], dtype=torch.float, requires_grad=True,\n",
    "                 device=device)\n",
    "print(x)\n",
    "print(x.shape)\n",
    "print(x.device)\n",
    "print(x.requires_grad)"
   ]
  },
  {
   "cell_type": "code",
   "outputs": [
    {
     "name": "stdout",
     "output_type": "stream",
     "text": [
      "tensor([[1., 1., 1.],\n",
      "        [1., 1., 1.]])\n"
     ]
    },
    {
     "data": {
      "text/plain": "tensor([[-7.7915e+33,  1.4531e-42,  0.0000e+00],\n        [ 0.0000e+00,  0.0000e+00,  0.0000e+00]])"
     },
     "execution_count": 2,
     "metadata": {},
     "output_type": "execute_result"
    }
   ],
   "source": [
    "y = torch.empty(size=(2, 3))    # allocate the memory, the values are the original ones not necessarily zero\n",
    "zero_y = torch.zeros((2, 3))    # create a tensor of all zeros\n",
    "rand_y = torch.rand((3, 3))     # uniform distribution from 0 to 1\n",
    "ones_y = torch.ones((2, 3))\n",
    "print(ones_y)\n",
    "y"
   ],
   "metadata": {
    "collapsed": false,
    "ExecuteTime": {
     "end_time": "2024-01-05T13:04:34.037726400Z",
     "start_time": "2024-01-05T13:04:34.028710700Z"
    }
   },
   "id": "8bcb31f919515b81",
   "execution_count": 2
  },
  {
   "cell_type": "code",
   "outputs": [
    {
     "data": {
      "text/plain": "tensor([[1., 0., 0.],\n        [0., 1., 0.],\n        [0., 0., 1.]])"
     },
     "execution_count": 3,
     "metadata": {},
     "output_type": "execute_result"
    }
   ],
   "source": [
    "I = torch.eye(3, 3, dtype=torch.float)  # identity matrix\n",
    "I"
   ],
   "metadata": {
    "collapsed": false,
    "ExecuteTime": {
     "end_time": "2024-01-05T13:04:34.448420Z",
     "start_time": "2024-01-05T13:04:34.444195500Z"
    }
   },
   "id": "401cc85cd3aa509d",
   "execution_count": 3
  },
  {
   "cell_type": "code",
   "outputs": [
    {
     "data": {
      "text/plain": "tensor([0., 1., 2., 3., 4., 5., 6., 7.])"
     },
     "execution_count": 4,
     "metadata": {},
     "output_type": "execute_result"
    }
   ],
   "source": [
    "arrange_y = torch.arange(start=0, end=8, step=1, dtype=torch.float)\n",
    "arrange_y"
   ],
   "metadata": {
    "collapsed": false,
    "ExecuteTime": {
     "end_time": "2024-01-05T13:04:34.996112200Z",
     "start_time": "2024-01-05T13:04:34.991302700Z"
    }
   },
   "id": "9b7e007a2251c9c4",
   "execution_count": 4
  },
  {
   "cell_type": "code",
   "outputs": [
    {
     "data": {
      "text/plain": "tensor([0., 1., 2., 3., 4., 5., 6., 7., 8.])"
     },
     "execution_count": 5,
     "metadata": {},
     "output_type": "execute_result"
    }
   ],
   "source": [
    "y = torch.linspace(start=0, end=8, steps=9, dtype=torch.float)  # from start to end(include end), count number is \"steps\"\n",
    "y"
   ],
   "metadata": {
    "collapsed": false,
    "ExecuteTime": {
     "end_time": "2024-01-05T13:04:35.447927800Z",
     "start_time": "2024-01-05T13:04:35.443672600Z"
    }
   },
   "id": "70217754389f85ed",
   "execution_count": 5
  },
  {
   "cell_type": "code",
   "outputs": [
    {
     "data": {
      "text/plain": "tensor([[-0.3331,  0.4287,  0.1098],\n        [ 0.0635, -1.1190, -0.1506]])"
     },
     "execution_count": 6,
     "metadata": {},
     "output_type": "execute_result"
    }
   ],
   "source": [
    "y = torch.empty(size=(2, 3), dtype=torch.float).normal_(mean=0, std=1)  # specify the mean and std, normal deploy\n",
    "y"
   ],
   "metadata": {
    "collapsed": false,
    "ExecuteTime": {
     "end_time": "2024-01-05T13:04:35.831989400Z",
     "start_time": "2024-01-05T13:04:35.826199700Z"
    }
   },
   "id": "f6789ae01318aabb",
   "execution_count": 6
  },
  {
   "cell_type": "code",
   "outputs": [
    {
     "data": {
      "text/plain": "tensor([[0.8939, 0.8007, 0.5679],\n        [0.0439, 0.9103, 0.2866]])"
     },
     "execution_count": 7,
     "metadata": {},
     "output_type": "execute_result"
    }
   ],
   "source": [
    "y = torch.empty(size=(2, 3), dtype=torch.float).uniform_(0, 1)  \n",
    "y"
   ],
   "metadata": {
    "collapsed": false,
    "ExecuteTime": {
     "end_time": "2024-01-05T13:04:35.996162500Z",
     "start_time": "2024-01-05T13:04:35.989848Z"
    }
   },
   "id": "c898a4c5e81508a",
   "execution_count": 7
  },
  {
   "cell_type": "code",
   "outputs": [
    {
     "data": {
      "text/plain": "tensor([[1, 0, 0],\n        [0, 2, 0],\n        [0, 0, 3]])"
     },
     "execution_count": 8,
     "metadata": {},
     "output_type": "execute_result"
    }
   ],
   "source": [
    "y = torch.diag(torch.tensor([1, 2, 3])) # diag matrix, specify the elements in the main diagonal\n",
    "y"
   ],
   "metadata": {
    "collapsed": false,
    "ExecuteTime": {
     "end_time": "2024-01-05T13:04:36.153613600Z",
     "start_time": "2024-01-05T13:04:36.144598300Z"
    }
   },
   "id": "4a6b269732231c1b",
   "execution_count": 8
  },
  {
   "cell_type": "markdown",
   "source": [
    "\n",
    "# How to initialize and convert tensors to other types"
   ],
   "metadata": {
    "collapsed": false
   },
   "id": "babe3be73b7ddf55"
  },
  {
   "cell_type": "code",
   "outputs": [
    {
     "data": {
      "text/plain": "tensor([0, 1, 2, 3])"
     },
     "execution_count": 9,
     "metadata": {},
     "output_type": "execute_result"
    }
   ],
   "source": [
    "x = torch.arange(4)\n",
    "x"
   ],
   "metadata": {
    "collapsed": false,
    "ExecuteTime": {
     "end_time": "2024-01-05T13:04:36.478920Z",
     "start_time": "2024-01-05T13:04:36.472243800Z"
    }
   },
   "id": "66e58cb338909ffd",
   "execution_count": 9
  },
  {
   "cell_type": "code",
   "outputs": [
    {
     "data": {
      "text/plain": "tensor([False,  True,  True,  True])"
     },
     "execution_count": 10,
     "metadata": {},
     "output_type": "execute_result"
    }
   ],
   "source": [
    "x.bool()"
   ],
   "metadata": {
    "collapsed": false,
    "ExecuteTime": {
     "end_time": "2024-01-05T13:04:36.670177700Z",
     "start_time": "2024-01-05T13:04:36.662038200Z"
    }
   },
   "id": "745955b15d43a797",
   "execution_count": 10
  },
  {
   "cell_type": "code",
   "outputs": [
    {
     "data": {
      "text/plain": "tensor([0., 1., 2., 3.])"
     },
     "execution_count": 11,
     "metadata": {},
     "output_type": "execute_result"
    }
   ],
   "source": [
    "x.float()   # 32bit float number"
   ],
   "metadata": {
    "collapsed": false,
    "ExecuteTime": {
     "end_time": "2024-01-05T13:04:36.815100600Z",
     "start_time": "2024-01-05T13:04:36.809417Z"
    }
   },
   "id": "29b8a7f64fb15c7",
   "execution_count": 11
  },
  {
   "cell_type": "code",
   "outputs": [
    {
     "data": {
      "text/plain": "tensor([0, 1, 2, 3])"
     },
     "execution_count": 12,
     "metadata": {},
     "output_type": "execute_result"
    }
   ],
   "source": [
    "x.long()    # 64int "
   ],
   "metadata": {
    "collapsed": false,
    "ExecuteTime": {
     "end_time": "2024-01-05T13:04:36.975206100Z",
     "start_time": "2024-01-05T13:04:36.970280400Z"
    }
   },
   "id": "168b6e8cd3d8640",
   "execution_count": 12
  },
  {
   "cell_type": "code",
   "outputs": [
    {
     "data": {
      "text/plain": "tensor([0., 1., 2., 3.], dtype=torch.float64)"
     },
     "execution_count": 13,
     "metadata": {},
     "output_type": "execute_result"
    }
   ],
   "source": [
    "x.double() # 64float"
   ],
   "metadata": {
    "collapsed": false,
    "ExecuteTime": {
     "end_time": "2024-01-05T13:04:37.242574600Z",
     "start_time": "2024-01-05T13:04:37.237188400Z"
    }
   },
   "id": "1e069d9432429944",
   "execution_count": 13
  },
  {
   "cell_type": "markdown",
   "source": [
    "# array to tensor conversion and vice-versa"
   ],
   "metadata": {
    "collapsed": false
   },
   "id": "f400533ea1136449"
  },
  {
   "cell_type": "code",
   "outputs": [
    {
     "data": {
      "text/plain": "(tensor([[0., 0., 0.],\n         [0., 0., 0.]], dtype=torch.float64),\n array([[0., 0., 0.],\n        [0., 0., 0.]]))"
     },
     "execution_count": 14,
     "metadata": {},
     "output_type": "execute_result"
    }
   ],
   "source": [
    "import numpy as np\n",
    "x = np.zeros((2, 3))\n",
    "tensor = torch.from_numpy(x)    # convert to tensor \n",
    "back_x = tensor.numpy()\n",
    "tensor, back_x"
   ],
   "metadata": {
    "collapsed": false,
    "ExecuteTime": {
     "end_time": "2024-01-05T13:04:37.706418300Z",
     "start_time": "2024-01-05T13:04:37.699749200Z"
    }
   },
   "id": "5dbf743ed13287eb",
   "execution_count": 14
  }
 ],
 "metadata": {
  "kernelspec": {
   "display_name": "Python 3",
   "language": "python",
   "name": "python3"
  },
  "language_info": {
   "codemirror_mode": {
    "name": "ipython",
    "version": 2
   },
   "file_extension": ".py",
   "mimetype": "text/x-python",
   "name": "python",
   "nbconvert_exporter": "python",
   "pygments_lexer": "ipython2",
   "version": "2.7.6"
  }
 },
 "nbformat": 4,
 "nbformat_minor": 5
}
