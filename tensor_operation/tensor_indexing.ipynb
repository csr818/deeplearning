{
 "cells": [
  {
   "cell_type": "markdown",
   "source": [
    "# Tensor indexing"
   ],
   "metadata": {
    "collapsed": false
   },
   "id": "467d3a490cb996ee"
  },
  {
   "cell_type": "code",
   "outputs": [
    {
     "data": {
      "text/plain": "tensor([[0.5609, 0.7792, 0.4779, 0.3321, 0.5903, 0.7129, 0.3413, 0.1208, 0.6817,\n         0.5428, 0.0648, 0.9794, 0.1558, 0.0787, 0.1417, 0.0169, 0.9653, 0.1761,\n         0.0070, 0.9383, 0.5232, 0.7447, 0.8238, 0.1532, 0.6547],\n        [0.9850, 0.9422, 0.5337, 0.2954, 0.6960, 0.6632, 0.5087, 0.0882, 0.2189,\n         0.1663, 0.7689, 0.9425, 0.1021, 0.5528, 0.4239, 0.1438, 0.4358, 0.4350,\n         0.0906, 0.6228, 0.0207, 0.9335, 0.6783, 0.5058, 0.7006],\n        [0.1860, 0.3503, 0.7892, 0.0473, 0.6045, 0.2099, 0.5085, 0.8470, 0.7091,\n         0.9971, 0.4208, 0.6533, 0.8942, 0.3118, 0.7170, 0.9889, 0.8246, 0.0643,\n         0.4696, 0.1621, 0.9242, 0.4048, 0.3974, 0.4933, 0.8011],\n        [0.6708, 0.7415, 0.2332, 0.8288, 0.4062, 0.6472, 0.6106, 0.5361, 0.7158,\n         0.0244, 0.4792, 0.1980, 0.1849, 0.0618, 0.6239, 0.6386, 0.1551, 0.3141,\n         0.6773, 0.7659, 0.4487, 0.3148, 0.7550, 0.0943, 0.3941],\n        [0.9304, 0.9394, 0.9105, 0.0211, 0.5543, 0.0378, 0.2977, 0.3154, 0.8003,\n         0.1889, 0.9400, 0.0870, 0.8325, 0.5333, 0.2954, 0.7255, 0.2286, 0.8475,\n         0.3650, 0.2921, 0.0520, 0.3674, 0.3263, 0.8865, 0.2943],\n        [0.1266, 0.6179, 0.0445, 0.3934, 0.1856, 0.6975, 0.8471, 0.5577, 0.2556,\n         0.6693, 0.1589, 0.8460, 0.1025, 0.9427, 0.8166, 0.2604, 0.1794, 0.0811,\n         0.4829, 0.6859, 0.0278, 0.6817, 0.6147, 0.8778, 0.3061],\n        [0.8169, 0.8965, 0.4037, 0.6133, 0.2793, 0.6877, 0.7032, 0.0866, 0.7458,\n         0.3462, 0.3952, 0.6297, 0.0995, 0.4139, 0.7451, 0.5571, 0.7345, 0.1787,\n         0.0500, 0.1330, 0.8401, 0.7650, 0.4183, 0.2337, 0.8543],\n        [0.9680, 0.7481, 0.1162, 0.5701, 0.7787, 0.0161, 0.2327, 0.8467, 0.5410,\n         0.7759, 0.7832, 0.3899, 0.2958, 0.4656, 0.9794, 0.3061, 0.3213, 0.9539,\n         0.7977, 0.2181, 0.9417, 0.9484, 0.4234, 0.4406, 0.4149],\n        [0.1703, 0.2221, 0.2689, 0.4523, 0.8212, 0.7490, 0.6021, 0.8518, 0.3635,\n         0.1902, 0.5178, 0.3729, 0.0021, 0.8193, 0.4302, 0.0692, 0.5097, 0.7537,\n         0.6103, 0.0373, 0.2528, 0.6182, 0.7671, 0.7554, 0.5370],\n        [0.3828, 0.1741, 0.5918, 0.3757, 0.4365, 0.1654, 0.3362, 0.0613, 0.8115,\n         0.0563, 0.1133, 0.0788, 0.5680, 0.0911, 0.9570, 0.0628, 0.5362, 0.4903,\n         0.8273, 0.4047, 0.9812, 0.7561, 0.7509, 0.8246, 0.2919]])"
     },
     "execution_count": 2,
     "metadata": {},
     "output_type": "execute_result"
    }
   ],
   "source": [
    "import torch\n",
    "batch_size = 10\n",
    "features = 25\n",
    "x = torch.rand((batch_size, features))\n",
    "x"
   ],
   "metadata": {
    "collapsed": false,
    "ExecuteTime": {
     "end_time": "2024-01-07T10:28:41.892154800Z",
     "start_time": "2024-01-07T10:28:38.000538500Z"
    }
   },
   "id": "c3392078303dcb56",
   "execution_count": 2
  },
  {
   "cell_type": "code",
   "outputs": [
    {
     "data": {
      "text/plain": "torch.Size([10, 25])"
     },
     "execution_count": 3,
     "metadata": {},
     "output_type": "execute_result"
    }
   ],
   "source": [
    "x.shape"
   ],
   "metadata": {
    "collapsed": false,
    "ExecuteTime": {
     "end_time": "2024-01-07T10:28:51.078368400Z",
     "start_time": "2024-01-07T10:28:51.066881700Z"
    }
   },
   "id": "44dfda2a3818310a",
   "execution_count": 3
  },
  {
   "cell_type": "code",
   "outputs": [
    {
     "data": {
      "text/plain": "torch.Size([10])"
     },
     "execution_count": 4,
     "metadata": {},
     "output_type": "execute_result"
    }
   ],
   "source": [
    "x[:, 0].shape # first feature of all the data"
   ],
   "metadata": {
    "collapsed": false,
    "ExecuteTime": {
     "end_time": "2024-01-07T10:30:45.385011300Z",
     "start_time": "2024-01-07T10:30:45.373715900Z"
    }
   },
   "id": "31b4709c7db7cab4",
   "execution_count": 4
  },
  {
   "cell_type": "markdown",
   "source": [
    "# Fancy indexing "
   ],
   "metadata": {
    "collapsed": false
   },
   "id": "edf994496badee2e"
  },
  {
   "cell_type": "code",
   "outputs": [
    {
     "name": "stdout",
     "output_type": "stream",
     "text": [
      "tensor([2, 5, 8])\n"
     ]
    }
   ],
   "source": [
    "x = torch.arange(10)\n",
    "indices = [2, 5, 8]\n",
    "print(x[indices])"
   ],
   "metadata": {
    "collapsed": false,
    "ExecuteTime": {
     "end_time": "2024-01-07T10:35:31.148268300Z",
     "start_time": "2024-01-07T10:35:31.127082500Z"
    }
   },
   "id": "3eb0c3ba40b94719",
   "execution_count": 5
  },
  {
   "cell_type": "code",
   "outputs": [
    {
     "name": "stdout",
     "output_type": "stream",
     "text": [
      "tensor([[0.9049, 0.8154, 0.9963, 0.3348, 0.5955],\n",
      "        [0.3787, 0.6321, 0.3145, 0.6657, 0.7425],\n",
      "        [0.0746, 0.0154, 0.5621, 0.3827, 0.3340]])\n",
      "tensor([0.7425, 0.9049])\n"
     ]
    }
   ],
   "source": [
    "x = torch.rand((3, 5))\n",
    "rows = torch.tensor([1, 0])\n",
    "column = torch.tensor([4, 0])\n",
    "print(x)\n",
    "print(x[rows, column]) # pick out elements in the x which regard (rows, column)'s corresponding elements as the indices "
   ],
   "metadata": {
    "collapsed": false,
    "ExecuteTime": {
     "end_time": "2024-01-07T10:36:53.087821Z",
     "start_time": "2024-01-07T10:36:53.076543200Z"
    }
   },
   "id": "8fd6306672370ec3",
   "execution_count": 7
  },
  {
   "cell_type": "code",
   "outputs": [
    {
     "data": {
      "text/plain": "tensor([0, 1, 9])"
     },
     "execution_count": 11,
     "metadata": {},
     "output_type": "execute_result"
    }
   ],
   "source": [
    "x = torch.arange(10)\n",
    "x[(x < 2) | (x > 8)] # think (x < 2) | (x > 8) as the filter function to get the elements from x"
   ],
   "metadata": {
    "collapsed": false,
    "ExecuteTime": {
     "end_time": "2024-01-07T11:28:10.066254400Z",
     "start_time": "2024-01-07T11:28:10.050644900Z"
    }
   },
   "id": "ee2a0e33ad3d4858",
   "execution_count": 11
  },
  {
   "cell_type": "code",
   "outputs": [
    {
     "data": {
      "text/plain": "tensor([], dtype=torch.int64)"
     },
     "execution_count": 12,
     "metadata": {},
     "output_type": "execute_result"
    }
   ],
   "source": [
    "x[(x < 2) & (x > 8)] # '&' means and here "
   ],
   "metadata": {
    "collapsed": false,
    "ExecuteTime": {
     "end_time": "2024-01-07T11:29:57.501967700Z",
     "start_time": "2024-01-07T11:29:57.493744700Z"
    }
   },
   "id": "45e17d0f8bf2ebdd",
   "execution_count": 12
  },
  {
   "cell_type": "code",
   "outputs": [
    {
     "data": {
      "text/plain": "tensor([0, 2, 4, 6, 8])"
     },
     "execution_count": 13,
     "metadata": {},
     "output_type": "execute_result"
    }
   ],
   "source": [
    "x[x.remainder(2) == 0] # torch.remainder(a, b) == a - a.div(b, rounding_mode=\"floor\") * b"
   ],
   "metadata": {
    "collapsed": false,
    "ExecuteTime": {
     "end_time": "2024-01-07T11:31:07.803245600Z",
     "start_time": "2024-01-07T11:31:07.789233800Z"
    }
   },
   "id": "1218f01a509e9fde",
   "execution_count": 13
  },
  {
   "cell_type": "code",
   "outputs": [
    {
     "data": {
      "text/plain": "tensor([ 0,  2,  4,  6,  8, 10,  6,  7,  8,  9])"
     },
     "execution_count": 15,
     "metadata": {},
     "output_type": "execute_result"
    }
   ],
   "source": [
    "torch.where(x > 5, x, x * 2) # if condition, first parameter otherwise second one"
   ],
   "metadata": {
    "collapsed": false,
    "ExecuteTime": {
     "end_time": "2024-01-07T11:37:10.219393600Z",
     "start_time": "2024-01-07T11:37:10.203655900Z"
    }
   },
   "id": "51044adbc4d03481",
   "execution_count": 15
  },
  {
   "cell_type": "code",
   "outputs": [
    {
     "data": {
      "text/plain": "tensor([1, 2, 3, 4])"
     },
     "execution_count": 16,
     "metadata": {},
     "output_type": "execute_result"
    }
   ],
   "source": [
    "torch.tensor([1, 2, 2, 3, 3, 3, 4, 4, 4, 4]).unique()"
   ],
   "metadata": {
    "collapsed": false,
    "ExecuteTime": {
     "end_time": "2024-01-07T11:41:50.352344Z",
     "start_time": "2024-01-07T11:41:50.338690300Z"
    }
   },
   "id": "f4e786b5327f16b0",
   "execution_count": 16
  },
  {
   "cell_type": "code",
   "outputs": [
    {
     "data": {
      "text/plain": "tensor([ 1,  2,  3,  4, 10])"
     },
     "execution_count": 17,
     "metadata": {},
     "output_type": "execute_result"
    }
   ],
   "source": [
    "torch.tensor([10, 10, 1, 2, 2, 3, 3, 3, 4, 4, 4, 4]).unique() # unique will sort the elements first"
   ],
   "metadata": {
    "collapsed": false,
    "ExecuteTime": {
     "end_time": "2024-01-07T11:42:07.981487700Z",
     "start_time": "2024-01-07T11:42:07.966948900Z"
    }
   },
   "id": "e39d98302dd64cd8",
   "execution_count": 17
  },
  {
   "cell_type": "code",
   "outputs": [
    {
     "data": {
      "text/plain": "3"
     },
     "execution_count": 18,
     "metadata": {},
     "output_type": "execute_result"
    }
   ],
   "source": [
    "torch.rand((5, 3, 10)).ndimension() # return the dimension number of the tensor"
   ],
   "metadata": {
    "collapsed": false,
    "ExecuteTime": {
     "end_time": "2024-01-07T11:43:02.155543800Z",
     "start_time": "2024-01-07T11:43:02.144171200Z"
    }
   },
   "id": "2eb7b132cc50ec91",
   "execution_count": 18
  },
  {
   "cell_type": "code",
   "outputs": [
    {
     "data": {
      "text/plain": "10"
     },
     "execution_count": 19,
     "metadata": {},
     "output_type": "execute_result"
    }
   ],
   "source": [
    "x.numel() # return the number of the elements"
   ],
   "metadata": {
    "collapsed": false,
    "ExecuteTime": {
     "end_time": "2024-01-07T11:43:56.355297500Z",
     "start_time": "2024-01-07T11:43:56.345212300Z"
    }
   },
   "id": "9ca99452ecf6045d",
   "execution_count": 19
  },
  {
   "cell_type": "code",
   "outputs": [],
   "source": [],
   "metadata": {
    "collapsed": false
   },
   "id": "456ae84141c1d3a5"
  }
 ],
 "metadata": {
  "kernelspec": {
   "display_name": "Python 3",
   "language": "python",
   "name": "python3"
  },
  "language_info": {
   "codemirror_mode": {
    "name": "ipython",
    "version": 2
   },
   "file_extension": ".py",
   "mimetype": "text/x-python",
   "name": "python",
   "nbconvert_exporter": "python",
   "pygments_lexer": "ipython2",
   "version": "2.7.6"
  }
 },
 "nbformat": 4,
 "nbformat_minor": 5
}
