{
 "cells": [
  {
   "cell_type": "markdown",
   "source": [
    "# Tensor reshaping"
   ],
   "metadata": {
    "collapsed": false
   },
   "id": "3f032cd3eee4438"
  },
  {
   "cell_type": "code",
   "outputs": [
    {
     "data": {
      "text/plain": "tensor([[0, 1, 2],\n        [3, 4, 5],\n        [6, 7, 8]])"
     },
     "execution_count": 1,
     "metadata": {},
     "output_type": "execute_result"
    }
   ],
   "source": [
    "import torch \n",
    "x = torch.arange(9)\n",
    "\n",
    "x_3x3 = x.view(3, 3) # act on the continuous memory space, it's a view of the base tensor \n",
    "x_3x3"
   ],
   "metadata": {
    "collapsed": false,
    "ExecuteTime": {
     "end_time": "2024-01-07T12:39:10.447523600Z",
     "start_time": "2024-01-07T12:39:05.318173400Z"
    }
   },
   "id": "f8b2f45bfc0daeb",
   "execution_count": 1
  },
  {
   "cell_type": "code",
   "outputs": [
    {
     "data": {
      "text/plain": "tensor([[-1,  1,  2],\n        [ 3,  4,  5],\n        [ 6,  7,  8]])"
     },
     "execution_count": 2,
     "metadata": {},
     "output_type": "execute_result"
    }
   ],
   "source": [
    "x[0] = -1\n",
    "x_3x3 # just change the way it interprets the same data, no data movement occurs"
   ],
   "metadata": {
    "collapsed": false,
    "ExecuteTime": {
     "end_time": "2024-01-07T12:42:03.734601100Z",
     "start_time": "2024-01-07T12:42:03.723973400Z"
    }
   },
   "id": "9a5e53226e642155",
   "execution_count": 2
  },
  {
   "cell_type": "code",
   "outputs": [
    {
     "data": {
      "text/plain": "tensor([[-1,  1,  2],\n        [ 3,  4,  5],\n        [ 6,  7,  8]])"
     },
     "execution_count": 3,
     "metadata": {},
     "output_type": "execute_result"
    }
   ],
   "source": [
    "x.reshape(3, 3)"
   ],
   "metadata": {
    "collapsed": false,
    "ExecuteTime": {
     "end_time": "2024-01-07T12:46:04.357399300Z",
     "start_time": "2024-01-07T12:46:04.349538200Z"
    }
   },
   "id": "569d47f431b3eb3a",
   "execution_count": 3
  },
  {
   "cell_type": "code",
   "outputs": [],
   "source": [
    "x[0] = 0"
   ],
   "metadata": {
    "collapsed": false,
    "ExecuteTime": {
     "end_time": "2024-01-07T12:46:20.369296500Z",
     "start_time": "2024-01-07T12:46:20.365154200Z"
    }
   },
   "id": "4143b8d1dac01cf7",
   "execution_count": 5
  },
  {
   "cell_type": "code",
   "outputs": [
    {
     "data": {
      "text/plain": "tensor([[0, 1, 2],\n        [3, 4, 5],\n        [6, 7, 8]])"
     },
     "execution_count": 6,
     "metadata": {},
     "output_type": "execute_result"
    }
   ],
   "source": [
    "x_3x3"
   ],
   "metadata": {
    "collapsed": false,
    "ExecuteTime": {
     "end_time": "2024-01-07T12:46:25.729390700Z",
     "start_time": "2024-01-07T12:46:25.719528600Z"
    }
   },
   "id": "88372f2cb73406e1",
   "execution_count": 6
  },
  {
   "cell_type": "code",
   "outputs": [
    {
     "ename": "RuntimeError",
     "evalue": "view size is not compatible with input tensor's size and stride (at least one dimension spans across two contiguous subspaces). Use .reshape(...) instead.",
     "output_type": "error",
     "traceback": [
      "\u001B[1;31m---------------------------------------------------------------------------\u001B[0m",
      "\u001B[1;31mRuntimeError\u001B[0m                              Traceback (most recent call last)",
      "Cell \u001B[1;32mIn[9], line 2\u001B[0m\n\u001B[0;32m      1\u001B[0m x_3x3_reshape \u001B[38;5;241m=\u001B[39m x\u001B[38;5;241m.\u001B[39mreshape(\u001B[38;5;241m3\u001B[39m, \u001B[38;5;241m3\u001B[39m)\n\u001B[1;32m----> 2\u001B[0m x_3x3_reshape\u001B[38;5;241m.\u001B[39mT\u001B[38;5;241m.\u001B[39mview(\u001B[38;5;241m9\u001B[39m)\n",
      "\u001B[1;31mRuntimeError\u001B[0m: view size is not compatible with input tensor's size and stride (at least one dimension spans across two contiguous subspaces). Use .reshape(...) instead."
     ]
    }
   ],
   "source": [
    "x_3x3_reshape = x.reshape(3, 3) # create a new data \n",
    "x_3x3_reshape.T.view(9)"
   ],
   "metadata": {
    "collapsed": false,
    "ExecuteTime": {
     "end_time": "2024-01-07T12:48:17.035371800Z",
     "start_time": "2024-01-07T12:48:16.424434Z"
    }
   },
   "id": "1e9182090e19fda2",
   "execution_count": 9
  },
  {
   "cell_type": "code",
   "outputs": [
    {
     "data": {
      "text/plain": "tensor([0, 3, 6, 1, 4, 7, 2, 5, 8])"
     },
     "execution_count": 10,
     "metadata": {},
     "output_type": "execute_result"
    }
   ],
   "source": [
    "x_3x3_reshape.T.contiguous().view(9) # use contiguous function make a new data which store continuously "
   ],
   "metadata": {
    "collapsed": false,
    "ExecuteTime": {
     "end_time": "2024-01-07T12:49:03.772290500Z",
     "start_time": "2024-01-07T12:49:03.760334600Z"
    }
   },
   "id": "747537e18fa1161",
   "execution_count": 10
  },
  {
   "cell_type": "code",
   "outputs": [
    {
     "name": "stdout",
     "output_type": "stream",
     "text": [
      "torch.Size([4, 5])\n",
      "torch.Size([2, 10])\n"
     ]
    }
   ],
   "source": [
    "x1 = torch.rand((2, 5))\n",
    "x2 = torch.rand((2, 5))\n",
    "print(torch.cat((x1, x2), dim=0).shape) # cat to connect two tensors\n",
    "print(torch.cat((x1, x2), dim=1).shape)"
   ],
   "metadata": {
    "collapsed": false,
    "ExecuteTime": {
     "end_time": "2024-01-07T12:54:14.650901600Z",
     "start_time": "2024-01-07T12:54:14.642543600Z"
    }
   },
   "id": "31d86f59dbd06472",
   "execution_count": 13
  },
  {
   "cell_type": "code",
   "outputs": [
    {
     "name": "stdout",
     "output_type": "stream",
     "text": [
      "torch.Size([10])\n",
      "torch.Size([32, 200])\n"
     ]
    }
   ],
   "source": [
    "z = x1.view(-1) # flatten the x1 with the parameter value is -1\n",
    "print(z.shape)\n",
    "x = torch.rand((32, 20, 10))\n",
    "print(x.view(32, -1).shape) # flatten part of the dimensions"
   ],
   "metadata": {
    "collapsed": false,
    "ExecuteTime": {
     "end_time": "2024-01-07T12:56:55.817519200Z",
     "start_time": "2024-01-07T12:56:55.810892800Z"
    }
   },
   "id": "a631e0daa4c7fe3f",
   "execution_count": 16
  },
  {
   "cell_type": "code",
   "outputs": [
    {
     "data": {
      "text/plain": "torch.Size([32, 10, 20])"
     },
     "execution_count": 18,
     "metadata": {},
     "output_type": "execute_result"
    }
   ],
   "source": [
    "x.permute(0, 2, 1).shape # change the dimension by the dimension indices "
   ],
   "metadata": {
    "collapsed": false,
    "ExecuteTime": {
     "end_time": "2024-01-07T12:59:09.074823400Z",
     "start_time": "2024-01-07T12:59:09.064789500Z"
    }
   },
   "id": "6aad245309186105",
   "execution_count": 18
  },
  {
   "cell_type": "code",
   "outputs": [
    {
     "name": "stdout",
     "output_type": "stream",
     "text": [
      "torch.Size([10])\n",
      "tensor([[0, 1, 2, 3, 4, 5, 6, 7, 8, 9]])\n",
      "tensor([[0],\n",
      "        [1],\n",
      "        [2],\n",
      "        [3],\n",
      "        [4],\n",
      "        [5],\n",
      "        [6],\n",
      "        [7],\n",
      "        [8],\n",
      "        [9]])\n",
      "tensor([[[0, 1, 2, 3, 4, 5, 6, 7, 8, 9]]])\n"
     ]
    }
   ],
   "source": [
    "x = torch.arange(10)\n",
    "print(x.shape)\n",
    "print(x.unsqueeze(0)) # 1x10\n",
    "print(x.unsqueeze(1)) # 10x1\n",
    "print(x.unsqueeze(0).unsqueeze(1)) # 1x1x10 "
   ],
   "metadata": {
    "collapsed": false,
    "ExecuteTime": {
     "end_time": "2024-01-07T13:05:29.858542200Z",
     "start_time": "2024-01-07T13:05:29.846635800Z"
    }
   },
   "id": "7abc5967a5cc80eb",
   "execution_count": 23
  },
  {
   "cell_type": "markdown",
   "source": [
    "the squeeze function is a  little hard to understand"
   ],
   "metadata": {
    "collapsed": false
   },
   "id": "dc3902edac6e9986"
  },
  {
   "cell_type": "code",
   "outputs": [],
   "source": [],
   "metadata": {
    "collapsed": false
   },
   "id": "8f1c898ad11ac558"
  }
 ],
 "metadata": {
  "kernelspec": {
   "display_name": "Python 3",
   "language": "python",
   "name": "python3"
  },
  "language_info": {
   "codemirror_mode": {
    "name": "ipython",
    "version": 2
   },
   "file_extension": ".py",
   "mimetype": "text/x-python",
   "name": "python",
   "nbconvert_exporter": "python",
   "pygments_lexer": "ipython2",
   "version": "2.7.6"
  }
 },
 "nbformat": 4,
 "nbformat_minor": 5
}
