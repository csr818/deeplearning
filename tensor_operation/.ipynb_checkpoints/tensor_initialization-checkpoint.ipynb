{
 "cells": [
  {
   "cell_type": "code",
   "execution_count": null,
   "id": "initial_id",
   "metadata": {
    "collapsed": true,
    "is_executing": true,
    "ExecuteTime": {
     "start_time": "2024-01-05T11:51:59.886007900Z"
    }
   },
   "outputs": [],
   "source": [
    "import torch\n",
    "\n",
    "device = \"cuda\" if torch.cuda.is_available() else \"cpu\"\n",
    "x = torch.tensor([[1, 2, 3], [4, 5, 6]], dtype=torch.float, requires_grad=True,\n",
    "                 device=device)\n",
    "print(x)\n",
    "print(x.shape)\n",
    "print(x.device)\n",
    "print(x.requires_grad)\n",
    "\n",
    "y = torch.empty(size=(2, 3))    # 分配的内存空间上本来存在的值，不一定是零\n",
    "zero_y = torch.zeros((2, 3))    # 创建一个全零的tensor\n",
    "rand_y = torch.rand((3, 3))     # 来自[0, 1]的均匀分布\n",
    "ones_y = torch.ones((2, 3))\n",
    "print(ones_y)"
   ]
  },
  {
   "cell_type": "code",
   "outputs": [],
   "source": [],
   "metadata": {
    "collapsed": false
   },
   "id": "8bcb31f919515b81"
  }
 ],
 "metadata": {
  "kernelspec": {
   "display_name": "Python 3",
   "language": "python",
   "name": "python3"
  },
  "language_info": {
   "codemirror_mode": {
    "name": "ipython",
    "version": 2
   },
   "file_extension": ".py",
   "mimetype": "text/x-python",
   "name": "python",
   "nbconvert_exporter": "python",
   "pygments_lexer": "ipython2",
   "version": "2.7.6"
  }
 },
 "nbformat": 4,
 "nbformat_minor": 5
}
