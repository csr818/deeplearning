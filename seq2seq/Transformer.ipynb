{
 "cells": [
  {
   "cell_type": "code",
   "execution_count": 43,
   "id": "98216195-3efe-41db-a054-415bda86b86d",
   "metadata": {},
   "outputs": [],
   "source": [
    "import torch\n",
    "import numpy as np\n",
    "import torch.nn as nn\n",
    "import torch.optim as optim\n",
    "import random\n",
    "import spacy\n",
    "import datasets\n",
    "import torchtext\n",
    "import evaluate\n",
    "import tqdm"
   ]
  },
  {
   "cell_type": "markdown",
   "id": "284885bd-faa0-446d-b81a-638a6a6ce262",
   "metadata": {
    "jp-MarkdownHeadingCollapsed": true
   },
   "source": [
    "#### 1. 设置随机种子 以便在随机操作时可以获得可重复结果"
   ]
  },
  {
   "cell_type": "code",
   "execution_count": 44,
   "id": "ab41c3e7-097b-4f19-bbd2-08d55bc8beca",
   "metadata": {},
   "outputs": [],
   "source": [
    "seed = 1234\n",
    "random.seed(seed)\n",
    "np.random.seed(seed)\n",
    "torch.manual_seed(seed)\n",
    "torch.cuda.manual_seed_all(seed)\n",
    "torch.backends.cudnn.deterministic = True"
   ]
  },
  {
   "cell_type": "markdown",
   "id": "120f78bf-0d3b-47cd-bd8f-098dda6f45ac",
   "metadata": {
    "jp-MarkdownHeadingCollapsed": true
   },
   "source": [
    "#### 2. 准备数据"
   ]
  },
  {
   "cell_type": "code",
   "execution_count": 48,
   "id": "dac2ca73-8e9f-4079-ada6-576fb2e59497",
   "metadata": {},
   "outputs": [],
   "source": [
    "dataset = datasets.load_dataset(\"bentrevett/multi30k\")\n",
    "train_data, valid_data, test_data = (\n",
    "    dataset['train'],\n",
    "    dataset['validation'],\n",
    "    dataset['test'],\n",
    ")   "
   ]
  },
  {
   "cell_type": "code",
   "execution_count": 49,
   "id": "673fd724-7181-4f2c-810e-c74b0fba2be5",
   "metadata": {},
   "outputs": [
    {
     "data": {
      "text/plain": [
       "{'en': 'Two young, White males are outside near many bushes.',\n",
       " 'de': 'Zwei junge weiße Männer sind im Freien in der Nähe vieler Büsche.'}"
      ]
     },
     "execution_count": 49,
     "metadata": {},
     "output_type": "execute_result"
    }
   ],
   "source": [
    "train_data[0]"
   ]
  },
  {
   "cell_type": "markdown",
   "id": "3615bc66-5e30-47e2-a558-32bfe3ceafa0",
   "metadata": {
    "jp-MarkdownHeadingCollapsed": true
   },
   "source": [
    "#### 3. tokenize"
   ]
  },
  {
   "cell_type": "code",
   "execution_count": 50,
   "id": "e097dee5-e120-4e34-a1a2-92588e646d38",
   "metadata": {},
   "outputs": [],
   "source": [
    "en_nlp = spacy.load(\"en_core_web_sm\")\n",
    "de_nlp = spacy.load(\"de_core_news_sm\")"
   ]
  },
  {
   "cell_type": "code",
   "execution_count": 118,
   "id": "c319dfdd-dcdf-4931-ba11-c2ab5ad7abc4",
   "metadata": {},
   "outputs": [
    {
     "data": {
      "text/plain": [
       "['Zwei',\n",
       " 'junge',\n",
       " 'weiße',\n",
       " 'Männer',\n",
       " 'sind',\n",
       " 'im',\n",
       " 'Freien',\n",
       " 'in',\n",
       " 'der',\n",
       " 'Nähe',\n",
       " 'vieler',\n",
       " 'Büsche',\n",
       " '.']"
      ]
     },
     "execution_count": 118,
     "metadata": {},
     "output_type": "execute_result"
    }
   ],
   "source": [
    "str = 'Zwei junge weiße Männer sind im Freien in der Nähe vieler Büsche.'\n",
    "[token.text for token in de_nlp.tokenizer(str)]"
   ]
  },
  {
   "cell_type": "code",
   "execution_count": 51,
   "id": "4249585e-8150-45cc-a142-d42ec2f93454",
   "metadata": {},
   "outputs": [],
   "source": [
    "def tokenize_example(example, en_nlp, de_nlp, max_length, lower, sos_token, eos_token):\n",
    "    en_tokens = [token.text for token in en_nlp.tokenizer(example['en'])][:max_length]\n",
    "    de_tokens = [token.text for token in de_nlp.tokenizer(example['de'])][:max_length]\n",
    "    if lower:\n",
    "        en_tokens = [token.lower() for token in en_tokens]\n",
    "        de_tokens = [token.lower() for token in de_tokens]\n",
    "    en_tokens = [sos_token] + en_tokens + [eos_token]\n",
    "    de_tokens = [sos_token] + de_tokens + [eos_token]\n",
    "    return {'en_tokens' : en_tokens, 'de_tokens' : de_tokens}"
   ]
  },
  {
   "cell_type": "code",
   "execution_count": 52,
   "id": "f56c5c79-7e46-4941-8259-65c43423571d",
   "metadata": {},
   "outputs": [
    {
     "data": {
      "application/vnd.jupyter.widget-view+json": {
       "model_id": "7261b01d5d77460eaa6e8fc2af0cc2ee",
       "version_major": 2,
       "version_minor": 0
      },
      "text/plain": [
       "Map:   0%|          | 0/29000 [00:00<?, ? examples/s]"
      ]
     },
     "metadata": {},
     "output_type": "display_data"
    },
    {
     "data": {
      "application/vnd.jupyter.widget-view+json": {
       "model_id": "8dce47c49a904a068f372042c6e9277f",
       "version_major": 2,
       "version_minor": 0
      },
      "text/plain": [
       "Map:   0%|          | 0/1014 [00:00<?, ? examples/s]"
      ]
     },
     "metadata": {},
     "output_type": "display_data"
    },
    {
     "data": {
      "application/vnd.jupyter.widget-view+json": {
       "model_id": "c6be444ee30d49a088252fa1de95ab9e",
       "version_major": 2,
       "version_minor": 0
      },
      "text/plain": [
       "Map:   0%|          | 0/1000 [00:00<?, ? examples/s]"
      ]
     },
     "metadata": {},
     "output_type": "display_data"
    }
   ],
   "source": [
    "max_length = 100\n",
    "lower = True\n",
    "sos_token = '<sos>'\n",
    "eos_token = '<eos>'\n",
    "\n",
    "fn_kwargs = {\n",
    "    'en_nlp' : en_nlp,\n",
    "    'de_nlp' : de_nlp,\n",
    "    'max_length' : max_length,\n",
    "    'lower' : lower,\n",
    "    'sos_token' : sos_token,\n",
    "    'eos_token' : eos_token\n",
    "}\n",
    "train_data = train_data.map(tokenize_example, fn_kwargs=fn_kwargs)\n",
    "valid_data = valid_data.map(tokenize_example, fn_kwargs=fn_kwargs)\n",
    "test_data = test_data.map(tokenize_example, fn_kwargs=fn_kwargs)"
   ]
  },
  {
   "cell_type": "code",
   "execution_count": 61,
   "id": "118e230d-b068-44f5-8762-b261df9375c0",
   "metadata": {},
   "outputs": [
    {
     "data": {
      "text/plain": [
       "{'en': 'Two young, White males are outside near many bushes.',\n",
       " 'de': 'Zwei junge weiße Männer sind im Freien in der Nähe vieler Büsche.',\n",
       " 'en_tokens': ['<sos>',\n",
       "  'two',\n",
       "  'young',\n",
       "  ',',\n",
       "  'white',\n",
       "  'males',\n",
       "  'are',\n",
       "  'outside',\n",
       "  'near',\n",
       "  'many',\n",
       "  'bushes',\n",
       "  '.',\n",
       "  '<eos>'],\n",
       " 'de_tokens': ['<sos>',\n",
       "  'zwei',\n",
       "  'junge',\n",
       "  'weiße',\n",
       "  'männer',\n",
       "  'sind',\n",
       "  'im',\n",
       "  'freien',\n",
       "  'in',\n",
       "  'der',\n",
       "  'nähe',\n",
       "  'vieler',\n",
       "  'büsche',\n",
       "  '.',\n",
       "  '<eos>'],\n",
       " 'en_ids': [2, 0, 0, 30, 0, 0, 0, 0, 0, 0, 0, 22, 3],\n",
       " 'de_ids': [2, 0, 0, 0, 0, 0, 0, 0, 0, 0, 0, 0, 0, 20, 3]}"
      ]
     },
     "execution_count": 61,
     "metadata": {},
     "output_type": "execute_result"
    }
   ],
   "source": [
    "train_data[0]"
   ]
  },
  {
   "cell_type": "markdown",
   "id": "e5e88c52-af4e-4258-8fa7-f3082ed2565c",
   "metadata": {
    "jp-MarkdownHeadingCollapsed": true
   },
   "source": [
    "#### 4. 建立vocabulary"
   ]
  },
  {
   "cell_type": "code",
   "execution_count": 62,
   "id": "c0d2e0a7-c1a7-49ae-befc-7a68d7f8ae4a",
   "metadata": {},
   "outputs": [],
   "source": [
    "min_freq = 2\n",
    "unk_token = '<unk>'\n",
    "pad_token = '<pad>'\n",
    "special_tokens = [\n",
    "    unk_token,\n",
    "    pad_token,\n",
    "    sos_token,\n",
    "    eos_token,\n",
    "]\n",
    "en_vocab = torchtext.vocab.build_vocab_from_iterator(\n",
    "    train_data['en_tokens'],\n",
    "    min_freq=min_freq,\n",
    "    specials=special_tokens,\n",
    ")\n",
    "de_vocab = torchtext.vocab.build_vocab_from_iterator(\n",
    "    train_data['de_tokens'],\n",
    "    min_freq=min_freq,\n",
    "    specials=special_tokens,\n",
    ")"
   ]
  },
  {
   "cell_type": "code",
   "execution_count": 64,
   "id": "652ab732-e227-4b72-84c5-9ca123608074",
   "metadata": {},
   "outputs": [],
   "source": [
    "assert en_vocab.get_stoi()[pad_token] == de_vocab[pad_token]\n",
    "assert en_vocab[unk_token] == de_vocab[unk_token]\n",
    "unk_index = en_vocab[unk_token]\n",
    "pad_index = en_vocab[pad_token]"
   ]
  },
  {
   "cell_type": "code",
   "execution_count": 65,
   "id": "3f93f10a-70eb-4812-99b1-f68aa32d22f2",
   "metadata": {},
   "outputs": [],
   "source": [
    "en_vocab.set_default_index(unk_index)\n",
    "de_vocab.set_default_index(unk_index)"
   ]
  },
  {
   "cell_type": "markdown",
   "id": "c353fc03-f7b3-4c4b-aaf1-169f92ba7e53",
   "metadata": {
    "jp-MarkdownHeadingCollapsed": true
   },
   "source": [
    "#### 5. tokens--->indices"
   ]
  },
  {
   "cell_type": "code",
   "execution_count": 66,
   "id": "544d7e4f-fe8c-42eb-a010-459a6cd47b97",
   "metadata": {},
   "outputs": [],
   "source": [
    "def numericalize_example(example, en_vocab, de_vocab):\n",
    "    en_ids = en_vocab.lookup_indices(example['en_tokens'])\n",
    "    de_ids = de_vocab.lookup_indices(example['de_tokens'])\n",
    "    return {'en_ids' : en_ids, 'de_ids' : de_ids}"
   ]
  },
  {
   "cell_type": "code",
   "execution_count": 67,
   "id": "a62bcb35-3495-4e2f-900b-c8449241fd8f",
   "metadata": {},
   "outputs": [
    {
     "data": {
      "application/vnd.jupyter.widget-view+json": {
       "model_id": "d8dfdd86aae14efe9b67ff68093a0942",
       "version_major": 2,
       "version_minor": 0
      },
      "text/plain": [
       "Map:   0%|          | 0/29000 [00:00<?, ? examples/s]"
      ]
     },
     "metadata": {},
     "output_type": "display_data"
    },
    {
     "data": {
      "application/vnd.jupyter.widget-view+json": {
       "model_id": "33bed7b44bf541bf8526bc115e28f328",
       "version_major": 2,
       "version_minor": 0
      },
      "text/plain": [
       "Map:   0%|          | 0/1014 [00:00<?, ? examples/s]"
      ]
     },
     "metadata": {},
     "output_type": "display_data"
    },
    {
     "data": {
      "application/vnd.jupyter.widget-view+json": {
       "model_id": "26b7a1ecf6a54f8aaff29605e23552a4",
       "version_major": 2,
       "version_minor": 0
      },
      "text/plain": [
       "Map:   0%|          | 0/1000 [00:00<?, ? examples/s]"
      ]
     },
     "metadata": {},
     "output_type": "display_data"
    }
   ],
   "source": [
    "fn_kwargs = {\"en_vocab\" : en_vocab, \"de_vocab\" : de_vocab}\n",
    "train_data = train_data.map(numericalize_example, fn_kwargs=fn_kwargs)\n",
    "valid_data = valid_data.map(numericalize_example, fn_kwargs=fn_kwargs)\n",
    "test_data = test_data.map(numericalize_example, fn_kwargs=fn_kwargs)"
   ]
  },
  {
   "cell_type": "code",
   "execution_count": 68,
   "id": "0c4a323b-19ba-461a-92f2-f107898c195b",
   "metadata": {
    "scrolled": true
   },
   "outputs": [
    {
     "data": {
      "text/plain": [
       "{'en': 'Two young, White males are outside near many bushes.',\n",
       " 'de': 'Zwei junge weiße Männer sind im Freien in der Nähe vieler Büsche.',\n",
       " 'en_tokens': ['<sos>',\n",
       "  'two',\n",
       "  'young',\n",
       "  ',',\n",
       "  'white',\n",
       "  'males',\n",
       "  'are',\n",
       "  'outside',\n",
       "  'near',\n",
       "  'many',\n",
       "  'bushes',\n",
       "  '.',\n",
       "  '<eos>'],\n",
       " 'de_tokens': ['<sos>',\n",
       "  'zwei',\n",
       "  'junge',\n",
       "  'weiße',\n",
       "  'männer',\n",
       "  'sind',\n",
       "  'im',\n",
       "  'freien',\n",
       "  'in',\n",
       "  'der',\n",
       "  'nähe',\n",
       "  'vieler',\n",
       "  'büsche',\n",
       "  '.',\n",
       "  '<eos>'],\n",
       " 'en_ids': [2, 16, 24, 15, 25, 778, 17, 57, 80, 202, 1312, 5, 3],\n",
       " 'de_ids': [2, 18, 26, 253, 30, 84, 20, 88, 7, 15, 110, 7647, 3171, 4, 3]}"
      ]
     },
     "execution_count": 68,
     "metadata": {},
     "output_type": "execute_result"
    }
   ],
   "source": [
    "train_data[0]"
   ]
  },
  {
   "cell_type": "code",
   "execution_count": 71,
   "id": "d3c11172-025a-41a8-ac20-34992a7429b2",
   "metadata": {},
   "outputs": [],
   "source": [
    "data_type = 'torch'\n",
    "format_columns = ['en_ids', 'de_ids']\n",
    "train_data = train_data.with_format(\n",
    "    type=data_type,\n",
    "    columns=format_columns,\n",
    "    output_all_columns=True,\n",
    ")\n",
    "valid_data = valid_data.with_format(\n",
    "    type=data_type,\n",
    "    columns=format_columns,\n",
    "    output_all_columns=True,\n",
    ")\n",
    "test_data = test_data.with_format(\n",
    "    type=data_type,\n",
    "    columns=format_columns,\n",
    "    output_all_columns=True,\n",
    ")"
   ]
  },
  {
   "cell_type": "markdown",
   "id": "418d7a6e-7037-418b-8540-4e198edaf707",
   "metadata": {
    "jp-MarkdownHeadingCollapsed": true
   },
   "source": [
    "#### 6. 创建dataloader"
   ]
  },
  {
   "cell_type": "code",
   "execution_count": 72,
   "id": "58e3522a-d1a5-4edd-8b7b-dfb57cd6ef31",
   "metadata": {},
   "outputs": [],
   "source": [
    "def get_collate_fn(pad_index):\n",
    "    def collate_fn(batch):\n",
    "        batch_en_ids = [example['en_ids'] for example in batch]\n",
    "        batch_de_ids = [example['de_ids'] for example in batch]\n",
    "        batch_en_ids = nn.utils.rnn.pad_sequence(batch_en_ids, batch_first=True, padding_value=pad_index)\n",
    "        batch_de_ids = nn.utils.rnn.pad_sequence(batch_de_ids, batch_first=True,padding_value=pad_index)\n",
    "        return {\"en_ids\" : batch_en_ids, \"de_ids\" : batch_de_ids}\n",
    "    return collate_fn"
   ]
  },
  {
   "cell_type": "code",
   "execution_count": 73,
   "id": "45d27725-407d-4602-850a-afcb39ad227b",
   "metadata": {},
   "outputs": [],
   "source": [
    "def get_data_loader(dataset, batch_size, pad_index, shuffle=False):\n",
    "    collate_fn = get_collate_fn(pad_index)\n",
    "    data_loader = torch.utils.data.DataLoader(\n",
    "        dataset=dataset,\n",
    "        batch_size=batch_size,\n",
    "        collate_fn=collate_fn,\n",
    "        shuffle=shuffle,\n",
    "    )\n",
    "    return data_loader"
   ]
  },
  {
   "cell_type": "markdown",
   "id": "8c8bbe14-47c4-4934-8363-8a22518c1da2",
   "metadata": {
    "jp-MarkdownHeadingCollapsed": true
   },
   "source": [
    "#### 7. 建立模型"
   ]
  },
  {
   "cell_type": "code",
   "execution_count": 74,
   "id": "779f53fc-d68a-4b5b-95a0-c3824a0f7e0c",
   "metadata": {},
   "outputs": [],
   "source": [
    "class Encoder(nn.Module):\n",
    "    def __init__(self, input_dim, hidden_dim, n_layers, \n",
    "                 n_heads, pf_dim, dropout, device, max_length=100):\n",
    "        \n",
    "        super().__init__()\n",
    "        self.device = device\n",
    "        self.tok_embedding = nn.Embedding(input_dim, hidden_dim)\n",
    "        # 用的是max_length，前面的dataloader在创建batch数据时是否需要统一每个batch中seq长度？\n",
    "        self.pos_embedding = nn.Embedding(max_length, hidden_dim)\n",
    "        self.layers = nn.ModuleList([\n",
    "            EncoderLayer(hidden_dim, n_heads, pf_dim, dropout, device) \n",
    "            for _ in range(n_layers)\n",
    "        ])\n",
    "        self.dropout = nn.Dropout(dropout)\n",
    "        self.scale = torch.sqrt(torch.FloatTensor([hidden_dim])).to(device)\n",
    "\n",
    "    def forward(self, src, src_mask):\n",
    "        # 关于src_mask的维度和作用？\n",
    "        # src [batch_size x seq_length]\n",
    "        batch_size = src.shape[0]\n",
    "        src_len = src.shape[1]\n",
    "        # 初始化pos，作为pos_embedding的输入，repeat重复\n",
    "        pos = torch.arange(0, src_len).unsqueeze(0).repeat(batch_size, 1).to(self.device)\n",
    "        src = self.dropout(self.tok_embedding(src)) + self.pos_embedding(pos)\n",
    "        for layer in self.layers:\n",
    "            src = layer(src, src_mask)\n",
    "        return src"
   ]
  },
  {
   "cell_type": "code",
   "execution_count": 75,
   "id": "c4f97f53-5f55-4cce-884d-b22445e0af5d",
   "metadata": {},
   "outputs": [],
   "source": [
    "class EncoderLayer(nn.Module):\n",
    "    def __init__(self, hidden_dim, n_heads, pf_dim, dropout, device):\n",
    "        super().__init__()\n",
    "        self.self_attention = MultiHeadAttentionLayer(hidden_dim, n_heads, dropout, device)\n",
    "        self.self_attn_layer_norm = nn.LayerNorm(hidden_dim)\n",
    "        self.ff_layer_norm = nn.LayerNorm(hidden_dim)\n",
    "        self.positionwise_feedforward = PositionwiseFeedForwardLayer(hidden_dim, pf_dim, dropout)\n",
    "        self.dropout = nn.Dropout(dropout)\n",
    "\n",
    "    def forward(self, src, src_mask):\n",
    "        # src [batch_size x src_length x hidden_dim]\n",
    "        _src, _ = self.self_attention(src, src, src, src_mask)\n",
    "        src = self.self_attn_layer_norm(src + self.dropout(_src))\n",
    "        _src = self.positionwise_feedforward(src)\n",
    "        src = self.ff_layer_norm(self.dropout(_src) + src)\n",
    "        return src"
   ]
  },
  {
   "cell_type": "code",
   "execution_count": 76,
   "id": "7196694a-7f36-470f-8928-160dbce51d3e",
   "metadata": {},
   "outputs": [],
   "source": [
    "class MultiHeadAttentionLayer(nn.Module):\n",
    "    def __init__(self, hid_dim, n_heads, dropout, device):\n",
    "        super().__init__()\n",
    "        assert hid_dim % n_heads == 0\n",
    "        self.hid_dim = hid_dim\n",
    "        self.n_heads = n_heads\n",
    "        self.head_dim = hid_dim // n_heads\n",
    "        self.fc_q = nn.Linear(hid_dim, hid_dim)\n",
    "        self.fc_k = nn.Linear(hid_dim, hid_dim)\n",
    "        self.fc_v = nn.Linear(hid_dim, hid_dim)\n",
    "        self.fc_o = nn.Linear(hid_dim, hid_dim)\n",
    "        self.dropout = nn.Dropout(dropout)\n",
    "        self.scale = torch.sqrt(torch.FloatTensor([hid_dim])).to(device)\n",
    "\n",
    "    def forward(self, query, key, value, mask=None):\n",
    "        batch_size = query.shape[0]\n",
    "\n",
    "        Q = self.fc_q(query)\n",
    "        K = self.fc_k(key)\n",
    "        V = self.fc_v(value)\n",
    "        # Q [batch_size, query_len, hid_dim]\n",
    "        # 划分多头\n",
    "        Q = Q.view(batch_size, -1, self.n_heads, self.head_dim).permute(0, 2, 1, 3)\n",
    "        # Q [batch_size, query_len, n_heads, head_dim] --> [batch_size, n_heads, query_len, head_dim]\n",
    "        K = K.view(batch_size, -1, self.n_heads, self.head_dim).permute(0, 2, 1, 3)\n",
    "        V = V.view(batch_size, -1, self.n_heads, self.head_dim).permute(0, 2, 1, 3)\n",
    "        # energy [batch_size, n_heads, query_len, key_len]\n",
    "        energy = torch.matmul(Q, K.permute(0, 1, 3, 2)) / self.scale\n",
    "        # 掩码为0的对应位置替换为-inf\n",
    "        if mask is not None:\n",
    "            energy = energy.masked_fill(mask==0, -1e10)\n",
    "        attention = torch.nn.functional.softmax(energy, dim=-1)\n",
    "        x = torch.matmul(self.dropout(attention), V).permute(0, 2, 1, 3).contiguous()\n",
    "        x = x.view(batch_size, -1, self.hid_dim)\n",
    "        x = self.fc_o(x)\n",
    "        return x, attention"
   ]
  },
  {
   "cell_type": "code",
   "execution_count": 77,
   "id": "dab866d5-a84a-48c8-9b70-8f85b525d58e",
   "metadata": {},
   "outputs": [],
   "source": [
    "class PositionwiseFeedForwardLayer(nn.Module):\n",
    "    def __init__(self, hid_dim, pf_dim, dropout):\n",
    "        super().__init__()\n",
    "        self.fc1 = nn.Linear(hid_dim, pf_dim)\n",
    "        self.fc2 = nn.Linear(pf_dim, hid_dim)\n",
    "        self.dropout = nn.Dropout(dropout)\n",
    "    def forward(self, x):\n",
    "        # x [batch_size, q_len, hid_dim]\n",
    "        x = self.dropout(torch.nn.functional.relu(self.fc1(x)))\n",
    "        x = self.fc2(x)\n",
    "        return x"
   ]
  },
  {
   "cell_type": "code",
   "execution_count": 78,
   "id": "d52f7fa1-88af-4685-96c7-bce357371335",
   "metadata": {},
   "outputs": [],
   "source": [
    "class Decoder(nn.Module):\n",
    "    def __init__(self, output_dim, hid_dim, n_layers, \n",
    "                 n_heads, pf_dim, dropout, device, max_length=100):\n",
    "        super().__init__()\n",
    "        self.device = device\n",
    "        self.tok_embedding = nn.Embedding(output_dim, hid_dim)\n",
    "        self.pos_embedding = nn.Embedding(max_length, hid_dim)\n",
    "        self.layers = nn.ModuleList([DecoderLayer(hid_dim, n_heads, pf_dim, dropout, device) \n",
    "                                    for _ in range(n_layers)])\n",
    "        self.dropout = nn.Dropout(dropout)\n",
    "        self.device = device\n",
    "        self.fc_out = nn.Linear(hid_dim, output_dim)\n",
    "        self.scale = torch.sqrt(torch.FloatTensor([hid_dim])).to(device)\n",
    "        \n",
    "    def forward(self, trg, enc_src, trg_mask, src_mask):\n",
    "        # trg [batch_size, trg_len]\n",
    "        # enc_src [batch_size, src_len, hid_dim]\n",
    "        # mask ?\n",
    "        batch_size = trg.shape[0]\n",
    "        trg_len = trg.shape[1]\n",
    "        pos = torch.arange(0, trg_len).unsqueeze(0).repeat(batch_size, 1).to(self.device)\n",
    "        # trg [batch_size, trg_len, hid_dim]\n",
    "        trg = self.dropout(self.tok_embedding(trg)) + self.pos_embedding(pos)\n",
    "        for layer in self.layers:\n",
    "            trg, attention = layer(trg, enc_src, trg_mask, src_mask)\n",
    "        # trg [batch_size, trg_len, hid_dim]\n",
    "        # attention [batch_size, n_heads, trg_len, src_len]\n",
    "        output = self.fc_out(trg)\n",
    "        return output, attention"
   ]
  },
  {
   "cell_type": "code",
   "execution_count": 79,
   "id": "0be30a63-5793-4a5e-8a16-d4d206414436",
   "metadata": {},
   "outputs": [],
   "source": [
    "class DecoderLayer(nn.Module):\n",
    "    def __init__(self, hid_dim, n_heads, pf_dim, dropout, device):\n",
    "        super().__init__()\n",
    "        self.self_attn_layer_norm = nn.LayerNorm(hid_dim)\n",
    "        self.enc_attn_layer_norm = nn.LayerNorm(hid_dim)\n",
    "        self.ff_layer_norm = nn.LayerNorm(hid_dim)\n",
    "        self.self_attention = MultiHeadAttentionLayer(hid_dim, n_heads, dropout, device)\n",
    "        self.encoder_attention = MultiHeadAttentionLayer(hid_dim, n_heads, dropout, device)\n",
    "        self.positionwise_feedforward = PositionwiseFeedForwardLayer(hid_dim, pf_dim, dropout)\n",
    "        self.dropout = nn.Dropout(dropout)\n",
    "    def forward(self, trg, enc_src, trg_mask, src_mask):\n",
    "        _trg, _ = self.self_attention(trg, trg, trg, trg_mask)\n",
    "        trg = self.self_attn_layer_norm(trg + self.dropout(_trg))\n",
    "        _trg, attention = self.encoder_attention(trg, enc_src, enc_src, src_mask)\n",
    "        trg = self.enc_attn_layer_norm(trg + self.dropout(_trg))\n",
    "        _trg = self.positionwise_feedforward(trg)\n",
    "        trg = self.ff_layer_norm(trg + self.dropout(_trg))\n",
    "        return trg, attention"
   ]
  },
  {
   "cell_type": "code",
   "execution_count": 80,
   "id": "696ceb47-0b2f-493b-b3b8-4539494851cf",
   "metadata": {},
   "outputs": [],
   "source": [
    "class Seq2seq(nn.Module):\n",
    "    def __init__(self, encoder, decoder, src_pad_idx, trg_pad_idx, device):\n",
    "        super().__init__()\n",
    "        self.encoder = encoder\n",
    "        self.decoder = decoder\n",
    "        self.src_pad_idx = src_pad_idx\n",
    "        self.trg_pad_idx = trg_pad_idx\n",
    "        self.device = device\n",
    "    def make_src_mask(self, src):\n",
    "        # src [batch_size, src_len]\n",
    "        src_mask = (src != self.src_pad_idx).unsqueeze(1).unsqueeze(2)\n",
    "        # src_mask [batch_size, 1, 1, src_len]\n",
    "        return src_mask\n",
    "    def make_trg_mask(self, trg):\n",
    "        trg_pad_mask = (trg != self.trg_pad_idx).unsqueeze(1).unsqueeze(2)\n",
    "        # trg_pad_mask [batch_size, 1, 1, trg_len]\n",
    "        # 创建一个下三角的mask 维度是[trg_len, trg_len]\n",
    "        trg_len = trg.shape[1]\n",
    "        trg_sub_mask = torch.tril(torch.ones(trg_len, trg_len)).bool()\n",
    "        trg_mask = trg_pad_mask & trg_sub_mask\n",
    "        # trg_mask [batch_size, 1, trg_len, trg_len]\n",
    "        return trg_mask\n",
    "    def forward(self, src, trg):\n",
    "        src_mask = self.make_src_mask(src)\n",
    "        trg_mask = self.make_trg_mask(trg)\n",
    "        enc_src = self.encoder(src, src_mask)\n",
    "        output, attention = self.decoder(trg, enc_src, trg_mask, src_mask)\n",
    "        return output, attention"
   ]
  },
  {
   "cell_type": "markdown",
   "id": "8323746a-149a-44d4-aa7c-8bb0f6437434",
   "metadata": {},
   "source": [
    "#### 8. 训练"
   ]
  },
  {
   "cell_type": "code",
   "execution_count": 81,
   "id": "0c32ed75-329b-4f58-8caf-c07bf1d9c107",
   "metadata": {},
   "outputs": [],
   "source": [
    "input_dim = len(de_vocab)\n",
    "output_dim = len(en_vocab)\n",
    "hid_dim = 256\n",
    "enc_layers = 3\n",
    "dec_layers = 3\n",
    "enc_heads = 8\n",
    "dec_heads = 8\n",
    "enc_pf_dim = 512\n",
    "dec_pf_dim = 512\n",
    "enc_dropout = 0.1\n",
    "dec_dropout = 0.1\n",
    "device = torch.device(\"cuda\" if torch.cuda.is_available() else 'cpu')\n",
    "encoder = Encoder(input_dim, hid_dim, enc_layers, enc_heads, enc_pf_dim, enc_dropout, device)\n",
    "decoder = Decoder(output_dim, hid_dim, dec_layers, dec_heads, dec_pf_dim, dec_dropout, device)"
   ]
  },
  {
   "cell_type": "code",
   "execution_count": 82,
   "id": "5acd9101-8140-4361-b33e-7531dec6ec05",
   "metadata": {},
   "outputs": [],
   "source": [
    "model = Seq2seq(encoder, decoder, pad_index, pad_index, device)"
   ]
  },
  {
   "cell_type": "code",
   "execution_count": 83,
   "id": "ded7bc05-b523-45b4-8fbc-b9b7d316120d",
   "metadata": {},
   "outputs": [
    {
     "name": "stdout",
     "output_type": "stream",
     "text": [
      "The model has 9038341 trainable parameters.\n"
     ]
    }
   ],
   "source": [
    "def count_parameters(model):\n",
    "    return sum(p.numel() for p in model.parameters() if p.requires_grad)\n",
    "print(f\"The model has {count_parameters(model)} trainable parameters.\")"
   ]
  },
  {
   "cell_type": "code",
   "execution_count": 84,
   "id": "9bfb5223-8d66-4fa1-bc20-fb5e58bf5e4b",
   "metadata": {},
   "outputs": [
    {
     "data": {
      "text/plain": [
       "Seq2seq(\n",
       "  (encoder): Encoder(\n",
       "    (tok_embedding): Embedding(7853, 256)\n",
       "    (pos_embedding): Embedding(100, 256)\n",
       "    (layers): ModuleList(\n",
       "      (0-2): 3 x EncoderLayer(\n",
       "        (self_attention): MultiHeadAttentionLayer(\n",
       "          (fc_q): Linear(in_features=256, out_features=256, bias=True)\n",
       "          (fc_k): Linear(in_features=256, out_features=256, bias=True)\n",
       "          (fc_v): Linear(in_features=256, out_features=256, bias=True)\n",
       "          (fc_o): Linear(in_features=256, out_features=256, bias=True)\n",
       "          (dropout): Dropout(p=0.1, inplace=False)\n",
       "        )\n",
       "        (self_attn_layer_norm): LayerNorm((256,), eps=1e-05, elementwise_affine=True)\n",
       "        (ff_layer_norm): LayerNorm((256,), eps=1e-05, elementwise_affine=True)\n",
       "        (positionwise_feedforward): PositionwiseFeedForwardLayer(\n",
       "          (fc1): Linear(in_features=256, out_features=512, bias=True)\n",
       "          (fc2): Linear(in_features=512, out_features=256, bias=True)\n",
       "          (dropout): Dropout(p=0.1, inplace=False)\n",
       "        )\n",
       "        (dropout): Dropout(p=0.1, inplace=False)\n",
       "      )\n",
       "    )\n",
       "    (dropout): Dropout(p=0.1, inplace=False)\n",
       "  )\n",
       "  (decoder): Decoder(\n",
       "    (tok_embedding): Embedding(5893, 256)\n",
       "    (pos_embedding): Embedding(100, 256)\n",
       "    (layers): ModuleList(\n",
       "      (0-2): 3 x DecoderLayer(\n",
       "        (self_attn_layer_norm): LayerNorm((256,), eps=1e-05, elementwise_affine=True)\n",
       "        (enc_attn_layer_norm): LayerNorm((256,), eps=1e-05, elementwise_affine=True)\n",
       "        (ff_layer_norm): LayerNorm((256,), eps=1e-05, elementwise_affine=True)\n",
       "        (self_attention): MultiHeadAttentionLayer(\n",
       "          (fc_q): Linear(in_features=256, out_features=256, bias=True)\n",
       "          (fc_k): Linear(in_features=256, out_features=256, bias=True)\n",
       "          (fc_v): Linear(in_features=256, out_features=256, bias=True)\n",
       "          (fc_o): Linear(in_features=256, out_features=256, bias=True)\n",
       "          (dropout): Dropout(p=0.1, inplace=False)\n",
       "        )\n",
       "        (encoder_attention): MultiHeadAttentionLayer(\n",
       "          (fc_q): Linear(in_features=256, out_features=256, bias=True)\n",
       "          (fc_k): Linear(in_features=256, out_features=256, bias=True)\n",
       "          (fc_v): Linear(in_features=256, out_features=256, bias=True)\n",
       "          (fc_o): Linear(in_features=256, out_features=256, bias=True)\n",
       "          (dropout): Dropout(p=0.1, inplace=False)\n",
       "        )\n",
       "        (positionwise_feedforward): PositionwiseFeedForwardLayer(\n",
       "          (fc1): Linear(in_features=256, out_features=512, bias=True)\n",
       "          (fc2): Linear(in_features=512, out_features=256, bias=True)\n",
       "          (dropout): Dropout(p=0.1, inplace=False)\n",
       "        )\n",
       "        (dropout): Dropout(p=0.1, inplace=False)\n",
       "      )\n",
       "    )\n",
       "    (dropout): Dropout(p=0.1, inplace=False)\n",
       "    (fc_out): Linear(in_features=256, out_features=5893, bias=True)\n",
       "  )\n",
       ")"
      ]
     },
     "execution_count": 84,
     "metadata": {},
     "output_type": "execute_result"
    }
   ],
   "source": [
    "def initialize_weights(model):\n",
    "    for name, param in model.named_parameters():\n",
    "        if hasattr(param, 'weight') and param.weight.dim() > 1:\n",
    "            nn.init.xavier_uniform_(param.data)\n",
    "model.apply(initialize_weights)"
   ]
  },
  {
   "cell_type": "code",
   "execution_count": 85,
   "id": "31890b53-b392-4d18-b4e8-ed481cd72aa1",
   "metadata": {},
   "outputs": [],
   "source": [
    "learning_rate = 0.0005\n",
    "optimizer = optim.Adam(model.parameters(), lr=learning_rate)"
   ]
  },
  {
   "cell_type": "code",
   "execution_count": 86,
   "id": "824e1bfc-8de3-4c89-949d-9d57d37e5135",
   "metadata": {},
   "outputs": [],
   "source": [
    "criterion = nn.CrossEntropyLoss(ignore_index=pad_index)"
   ]
  },
  {
   "cell_type": "code",
   "execution_count": 87,
   "id": "105bab52-70d5-49dd-8b98-badf100f160a",
   "metadata": {},
   "outputs": [],
   "source": [
    "def train_fn(model, data_loader, optimizer, criterion, clip, device):\n",
    "    model.train()\n",
    "    epoch_loss = 0\n",
    "    for i, batch in enumerate(data_loader):\n",
    "        src = batch['de_ids'].to(device)\n",
    "        trg = batch['en_ids'].to(device)\n",
    "        optimizer.zero_grad()\n",
    "        # 不自己输入<sos>\n",
    "        output, _ = model(src, trg[:, :-1])\n",
    "        output_dim = output.shape[-1]\n",
    "        # output [batch_size, trg_len-1, output_dim]\n",
    "        output = output.contiguous().view(-1, output_dim)\n",
    "        trg = trg[:, 1:].contiguous().view(-1)\n",
    "        loss = criterion(output, trg)\n",
    "        loss.backward()\n",
    "        torch.nn.utils.clip_grad_norm_(model.parameters(), clip)\n",
    "        optimizer.step()\n",
    "        epoch_loss += loss.item()\n",
    "    return epoch_loss / len(data_loader)"
   ]
  },
  {
   "cell_type": "code",
   "execution_count": 88,
   "id": "18fe5f24-ebf5-4336-9f03-354245348883",
   "metadata": {},
   "outputs": [],
   "source": [
    "def evaluate_fn(model, data_loader, optimizer, criterion, device):\n",
    "    model.eval()\n",
    "    epoch_loss = 0\n",
    "    with torch.no_grad():\n",
    "        for i, batch in enumerate(data_loader):\n",
    "            src = batch['de_ids'].to(device)\n",
    "            trg = batch['en_ids'].to(device)\n",
    "            output, _ = model(src, trg[:, :-1])\n",
    "            output_dim = output.shape[-1]\n",
    "            output = output.contiguous().view(-1, output_dim)\n",
    "            trg = trg[:, 1:].contiguous().view(-1)\n",
    "            loss = criterion(output, trg)\n",
    "            epoch_loss += loss.item()\n",
    "    return epoch_loss / len(data_loader)"
   ]
  },
  {
   "cell_type": "code",
   "execution_count": 89,
   "id": "87808998-cf09-4932-acb8-6a3344c8f95f",
   "metadata": {},
   "outputs": [],
   "source": [
    "def epoch_time(start_time, end_time):\n",
    "    elapsed_time = end_time - start_time\n",
    "    return int(elapsed_time / 60), int(elapsed_time - elapsed_time // 60 * 60)"
   ]
  },
  {
   "cell_type": "code",
   "execution_count": 90,
   "id": "7450b13c-44e0-4c05-b8d6-c01975ea458a",
   "metadata": {},
   "outputs": [],
   "source": [
    "batch_size = 128\n",
    "\n",
    "train_data_loader = get_data_loader(train_data, batch_size, pad_index, shuffle=True)\n",
    "valid_data_loader = get_data_loader(valid_data, batch_size, pad_index)\n",
    "test_data_loader = get_data_loader(test_data, batch_size, pad_index)"
   ]
  },
  {
   "cell_type": "code",
   "execution_count": 91,
   "id": "c03bd509-abb3-434f-9f29-7d5d5cb6a4aa",
   "metadata": {},
   "outputs": [],
   "source": [
    "import time\n",
    "import math"
   ]
  },
  {
   "cell_type": "code",
   "execution_count": 92,
   "id": "a1232243-dfe1-4285-85c9-1ceeceaba0cd",
   "metadata": {},
   "outputs": [
    {
     "name": "stderr",
     "output_type": "stream",
     "text": [
      " 10%|█████████▏                                                                                  | 1/10 [07:43<1:09:33, 463.70s/it]"
     ]
    },
    {
     "name": "stdout",
     "output_type": "stream",
     "text": [
      "Epoch: 01 | Time: 7m 43s\n",
      "\tTrain Loss: 4.089 | Train PPL:  59.679\n",
      "\tValid Loss: 2.997 | Valid PPL:  20.016\n"
     ]
    },
    {
     "name": "stderr",
     "output_type": "stream",
     "text": [
      " 20%|██████████████████▊                                                                           | 2/10 [14:59<59:39, 447.48s/it]"
     ]
    },
    {
     "name": "stdout",
     "output_type": "stream",
     "text": [
      "Epoch: 02 | Time: 7m 15s\n",
      "\tTrain Loss: 2.864 | Train PPL:  17.527\n",
      "\tValid Loss: 2.449 | Valid PPL:  11.578\n"
     ]
    },
    {
     "name": "stderr",
     "output_type": "stream",
     "text": [
      " 30%|████████████████████████████▏                                                                 | 3/10 [22:40<52:55, 453.69s/it]"
     ]
    },
    {
     "name": "stdout",
     "output_type": "stream",
     "text": [
      "Epoch: 03 | Time: 7m 40s\n",
      "\tTrain Loss: 2.404 | Train PPL:  11.071\n",
      "\tValid Loss: 2.168 | Valid PPL:   8.743\n"
     ]
    },
    {
     "name": "stderr",
     "output_type": "stream",
     "text": [
      " 40%|█████████████████████████████████████▌                                                        | 4/10 [30:17<45:29, 454.97s/it]"
     ]
    },
    {
     "name": "stdout",
     "output_type": "stream",
     "text": [
      "Epoch: 04 | Time: 7m 36s\n",
      "\tTrain Loss: 2.094 | Train PPL:   8.113\n",
      "\tValid Loss: 1.981 | Valid PPL:   7.249\n"
     ]
    },
    {
     "name": "stderr",
     "output_type": "stream",
     "text": [
      " 50%|███████████████████████████████████████████████                                               | 5/10 [37:57<38:04, 456.83s/it]"
     ]
    },
    {
     "name": "stdout",
     "output_type": "stream",
     "text": [
      "Epoch: 05 | Time: 7m 40s\n",
      "\tTrain Loss: 1.861 | Train PPL:   6.432\n",
      "\tValid Loss: 1.861 | Valid PPL:   6.429\n"
     ]
    },
    {
     "name": "stderr",
     "output_type": "stream",
     "text": [
      " 60%|████████████████████████████████████████████████████████▍                                     | 6/10 [45:35<30:28, 457.08s/it]"
     ]
    },
    {
     "name": "stdout",
     "output_type": "stream",
     "text": [
      "Epoch: 06 | Time: 7m 37s\n",
      "\tTrain Loss: 1.677 | Train PPL:   5.349\n",
      "\tValid Loss: 1.791 | Valid PPL:   5.997\n"
     ]
    },
    {
     "name": "stderr",
     "output_type": "stream",
     "text": [
      " 70%|█████████████████████████████████████████████████████████████████▊                            | 7/10 [53:10<22:49, 456.50s/it]"
     ]
    },
    {
     "name": "stdout",
     "output_type": "stream",
     "text": [
      "Epoch: 07 | Time: 7m 35s\n",
      "\tTrain Loss: 1.524 | Train PPL:   4.593\n",
      "\tValid Loss: 1.743 | Valid PPL:   5.716\n"
     ]
    },
    {
     "name": "stderr",
     "output_type": "stream",
     "text": [
      " 80%|█████████████████████████████████████████████████████████████████████████▌                  | 8/10 [1:00:48<15:13, 456.73s/it]"
     ]
    },
    {
     "name": "stdout",
     "output_type": "stream",
     "text": [
      "Epoch: 08 | Time: 7m 37s\n",
      "\tTrain Loss: 1.392 | Train PPL:   4.025\n",
      "\tValid Loss: 1.719 | Valid PPL:   5.579\n"
     ]
    },
    {
     "name": "stderr",
     "output_type": "stream",
     "text": [
      " 90%|██████████████████████████████████████████████████████████████████████████████████▊         | 9/10 [1:08:11<07:32, 452.57s/it]"
     ]
    },
    {
     "name": "stdout",
     "output_type": "stream",
     "text": [
      "Epoch: 09 | Time: 7m 23s\n",
      "\tTrain Loss: 1.279 | Train PPL:   3.593\n",
      "\tValid Loss: 1.700 | Valid PPL:   5.472\n"
     ]
    },
    {
     "name": "stderr",
     "output_type": "stream",
     "text": [
      "100%|███████████████████████████████████████████████████████████████████████████████████████████| 10/10 [1:15:41<00:00, 454.11s/it]"
     ]
    },
    {
     "name": "stdout",
     "output_type": "stream",
     "text": [
      "Epoch: 10 | Time: 7m 29s\n",
      "\tTrain Loss: 1.180 | Train PPL:   3.254\n",
      "\tValid Loss: 1.693 | Valid PPL:   5.434\n"
     ]
    },
    {
     "name": "stderr",
     "output_type": "stream",
     "text": [
      "\n"
     ]
    }
   ],
   "source": [
    "n_epochs = 10\n",
    "clip = 1.0\n",
    "best_valid_loss = float('inf')\n",
    "for epoch in tqdm.tqdm(range(n_epochs)):\n",
    "    start_time = time.time()\n",
    "    train_loss = train_fn(model, train_data_loader, optimizer, criterion, clip, device)\n",
    "    valid_loss = evaluate_fn(model, valid_data_loader, optimizer, criterion, device)\n",
    "    end_time = time.time()\n",
    "    epoch_mins, epoch_secs = epoch_time(start_time, end_time)\n",
    "    if valid_loss < best_valid_loss:\n",
    "        best_valid_loss = valid_loss\n",
    "        torch.save(model.state_dict(), 'tut6-model.pt')\n",
    "    print(f\"Epoch: {epoch+1:02} | Time: {epoch_mins}m {epoch_secs}s\")\n",
    "    print(f\"\\tTrain Loss: {train_loss:.3f} | Train PPL: {math.exp(train_loss):7.3f}\")\n",
    "    print(f\"\\tValid Loss: {valid_loss:.3f} | Valid PPL: {math.exp(valid_loss):7.3f}\")"
   ]
  },
  {
   "cell_type": "code",
   "execution_count": 104,
   "id": "58a175fd-972e-4197-b53d-c248203b21a1",
   "metadata": {},
   "outputs": [
    {
     "name": "stdout",
     "output_type": "stream",
     "text": [
      "| Test Loss: 1.765 | Test PPL:   5.843 |\n"
     ]
    }
   ],
   "source": [
    "model.load_state_dict(torch.load('tut6-model.pt'))\n",
    "\n",
    "test_loss = evaluate_fn(model, test_data_loader, optimizer, criterion, device)\n",
    "\n",
    "print(f'| Test Loss: {test_loss:.3f} | Test PPL: {math.exp(test_loss):7.3f} |')"
   ]
  },
  {
   "cell_type": "code",
   "execution_count": 131,
   "id": "4c466663-b998-4725-aabc-8dee4589ffa8",
   "metadata": {},
   "outputs": [],
   "source": [
    "def translate_sentence(\n",
    "    sentence,\n",
    "    model,\n",
    "    en_nlp,\n",
    "    de_nlp,\n",
    "    en_vocab,\n",
    "    de_vocab,\n",
    "    lower,\n",
    "    sos_token,\n",
    "    eos_token,\n",
    "    device,\n",
    "    max_length=100,\n",
    "):\n",
    "    model.eval()\n",
    "    with torch.no_grad():\n",
    "        # 若sentence是字符串，转化为token\n",
    "        if isinstance(sentence, type(str)):\n",
    "            tokens = [token.text for token in de_nlp.tokenizer(sentence)]\n",
    "        else:\n",
    "            tokens = [token for token in sentence]\n",
    "        if lower:\n",
    "            tokens = [token.lower() for token in tokens]\n",
    "        #print(tokens)\n",
    "        tokens = [sos_token] + tokens + [eos_token]\n",
    "        ids = de_vocab.lookup_indices(tokens)\n",
    "        #print(tokens, ids)\n",
    "        # 加上一个维度，batch dimension\n",
    "        src = torch.LongTensor(ids).unsqueeze(0).to(device)\n",
    "        src_mask = model.make_src_mask(src)\n",
    "        with torch.no_grad():\n",
    "            enc_src = model.encoder(src, src_mask)\n",
    "        trg_ids = [en_vocab.get_stoi()[sos_token]]\n",
    "        # 循环传入输入，一个接一个地生成单词\n",
    "        for i in range(max_length):\n",
    "            trg_tensor = torch.LongTensor(trg_ids).unsqueeze(0).to(device)\n",
    "            trg_mask = model.make_trg_mask(trg_tensor)\n",
    "            with torch.no_grad():\n",
    "                output, attention = model.decoder(trg_tensor, enc_src, trg_mask, src_mask)\n",
    "            # argmax(2)在vacab_size这个维度上找出最大值的索引\n",
    "            # 取出句子中最后一个单词的idx\n",
    "            pred_token = output.argmax(2)[:,-1].item()\n",
    "            trg_ids.append(pred_token)\n",
    "            if pred_token == en_vocab.get_stoi()[eos_token]:\n",
    "                break\n",
    "        trg_tokens = en_vocab.lookup_tokens(trg_ids)\n",
    "        return trg_tokens[1:], attention"
   ]
  },
  {
   "cell_type": "code",
   "execution_count": 132,
   "id": "baa09c76-07bd-407a-8472-872787056d51",
   "metadata": {},
   "outputs": [
    {
     "data": {
      "text/plain": [
       "('Ein Mann mit einem orangefarbenen Hut, der etwas anstarrt.',\n",
       " 'A man in an orange hat starring at something.')"
      ]
     },
     "execution_count": 132,
     "metadata": {},
     "output_type": "execute_result"
    }
   ],
   "source": [
    "sentence = test_data[0][\"de\"]\n",
    "expected_translation = test_data[0][\"en\"]\n",
    "sentence, expected_translation"
   ]
  },
  {
   "cell_type": "code",
   "execution_count": 133,
   "id": "dd92724a-106d-4854-acae-d76fbc6caf13",
   "metadata": {},
   "outputs": [
    {
     "data": {
      "text/plain": [
       "['a', 'man', 'in', 'an', 'orange', 'hat', 'welding', 'something', '.', '<eos>']"
      ]
     },
     "execution_count": 133,
     "metadata": {},
     "output_type": "execute_result"
    }
   ],
   "source": [
    "translation = translate_sentence(\n",
    "    sentence,\n",
    "    model,\n",
    "    en_nlp,\n",
    "    de_nlp,\n",
    "    en_vocab, \n",
    "    de_vocab,\n",
    "    lower,\n",
    "    sos_token,\n",
    "    eos_token,\n",
    "    device\n",
    ")\n",
    "translation[0]"
   ]
  },
  {
   "cell_type": "markdown",
   "id": "cbfb2452-9e1f-400c-91da-078b35296786",
   "metadata": {},
   "source": [
    "#### 9. 计算bleu"
   ]
  },
  {
   "cell_type": "code",
   "execution_count": 134,
   "id": "2bdad807-1e43-4b31-b251-cd4915ebf168",
   "metadata": {},
   "outputs": [
    {
     "name": "stderr",
     "output_type": "stream",
     "text": [
      "100%|██████████████████████████████████████████████████████████████████████████████████████████| 1000/1000 [07:02<00:00,  2.37it/s]\n"
     ]
    }
   ],
   "source": [
    "translations = [\n",
    "    translate_sentence(\n",
    "        example[\"de\"],\n",
    "        model,\n",
    "        en_nlp,\n",
    "        de_nlp,\n",
    "        en_vocab,\n",
    "        de_vocab,\n",
    "        lower,\n",
    "        sos_token,\n",
    "        eos_token,\n",
    "        device,\n",
    "    ) for example in tqdm.tqdm(test_data)\n",
    "]"
   ]
  },
  {
   "cell_type": "code",
   "execution_count": 136,
   "id": "aefef16c-4347-4c4c-bc6b-460dffd2879c",
   "metadata": {},
   "outputs": [],
   "source": [
    "bleu = evaluate.load('bleu')"
   ]
  },
  {
   "cell_type": "code",
   "execution_count": 143,
   "id": "b10f1f22-9680-4016-bdb7-401240398811",
   "metadata": {},
   "outputs": [],
   "source": [
    "predictions = [\" \".join(translation[0][1:-1]) for translation in translations]\n",
    "references = [[example['en']] for example in test_data]"
   ]
  },
  {
   "cell_type": "code",
   "execution_count": 144,
   "id": "8d3fe49b-cb2e-47c8-8952-22e9d6681b49",
   "metadata": {},
   "outputs": [
    {
     "data": {
      "text/plain": [
       "('man in an orange hat welding something .',\n",
       " ['A man in an orange hat starring at something.'])"
      ]
     },
     "execution_count": 144,
     "metadata": {},
     "output_type": "execute_result"
    }
   ],
   "source": [
    "predictions[0], references[0]"
   ]
  },
  {
   "cell_type": "code",
   "execution_count": 145,
   "id": "ac0750f9-c6c8-46cd-a41b-f4fdcca1dc1d",
   "metadata": {},
   "outputs": [],
   "source": [
    "def get_tokenizer_fn(nlp, lower):\n",
    "    def tokenizer_fn(s):\n",
    "        tokens = [token.text for token in nlp.tokenizer(s)]\n",
    "        if lower:\n",
    "            tokens = [token.lower() for token in tokens]\n",
    "        return tokens\n",
    "    return tokenizer_fn"
   ]
  },
  {
   "cell_type": "code",
   "execution_count": 146,
   "id": "f1b9e540-4f99-4e1a-8ea7-e892da9c8c5b",
   "metadata": {},
   "outputs": [
    {
     "data": {
      "text/plain": [
       "(['man', 'in', 'an', 'orange', 'hat', 'welding', 'something', '.'],\n",
       " ['a', 'man', 'in', 'an', 'orange', 'hat', 'starring', 'at', 'something', '.'])"
      ]
     },
     "execution_count": 146,
     "metadata": {},
     "output_type": "execute_result"
    }
   ],
   "source": [
    "tokenizer_fn = get_tokenizer_fn(en_nlp, lower)\n",
    "tokenizer_fn(predictions[0]), tokenizer_fn(references[0][0])"
   ]
  },
  {
   "cell_type": "code",
   "execution_count": 147,
   "id": "0e9e7fd6-5f47-4f0c-92b4-d6a8179dc80b",
   "metadata": {},
   "outputs": [],
   "source": [
    "results = bleu.compute(\n",
    "    predictions=predictions,\n",
    "    references=references,\n",
    "    tokenizer=tokenizer_fn\n",
    ")"
   ]
  },
  {
   "cell_type": "code",
   "execution_count": 148,
   "id": "30fad132-0906-4e36-b56e-6070ba0b6d54",
   "metadata": {},
   "outputs": [
    {
     "data": {
      "text/plain": [
       "{'bleu': 0.3108307280672848,\n",
       " 'precisions': [0.6392705069494657,\n",
       "  0.3889228618852101,\n",
       "  0.26064899014071025,\n",
       "  0.1752937440457288],\n",
       " 'brevity_penalty': 0.9520972141629594,\n",
       " 'length_ratio': 0.9532087609128503,\n",
       " 'translation_length': 12447,\n",
       " 'reference_length': 13058}"
      ]
     },
     "execution_count": 148,
     "metadata": {},
     "output_type": "execute_result"
    }
   ],
   "source": [
    "results"
   ]
  },
  {
   "cell_type": "code",
   "execution_count": null,
   "id": "ce606204-1560-451e-a23d-29714a9d81ae",
   "metadata": {},
   "outputs": [],
   "source": []
  }
 ],
 "metadata": {
  "kernelspec": {
   "display_name": "Python 3 (ipykernel)",
   "language": "python",
   "name": "python3"
  },
  "language_info": {
   "codemirror_mode": {
    "name": "ipython",
    "version": 3
   },
   "file_extension": ".py",
   "mimetype": "text/x-python",
   "name": "python",
   "nbconvert_exporter": "python",
   "pygments_lexer": "ipython3",
   "version": "3.11.5"
  }
 },
 "nbformat": 4,
 "nbformat_minor": 5
}
